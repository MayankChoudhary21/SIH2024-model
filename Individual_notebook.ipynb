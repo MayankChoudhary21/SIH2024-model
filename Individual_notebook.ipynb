{
  "cells": [
    {
      "cell_type": "code",
      "execution_count": 90,
      "metadata": {
        "id": "qFqoB3_Bl3pP"
      },
      "outputs": [],
      "source": [
        "import numpy as np\n",
        "import pandas as pd\n",
        "import matplotlib.pyplot as plt\n",
        "import seaborn as sns\n",
        "from scipy import stats"
      ]
    },
    {
      "cell_type": "code",
      "execution_count": 91,
      "metadata": {
        "colab": {
          "base_uri": "https://localhost:8080/",
          "height": 206
        },
        "id": "HWTrVDb-mnor",
        "outputId": "d48e6541-5369-4860-bcbd-e32f3f68fffd"
      },
      "outputs": [
        {
          "data": {
            "text/html": [
              "<div>\n",
              "<style scoped>\n",
              "    .dataframe tbody tr th:only-of-type {\n",
              "        vertical-align: middle;\n",
              "    }\n",
              "\n",
              "    .dataframe tbody tr th {\n",
              "        vertical-align: top;\n",
              "    }\n",
              "\n",
              "    .dataframe thead th {\n",
              "        text-align: right;\n",
              "    }\n",
              "</style>\n",
              "<table border=\"1\" class=\"dataframe\">\n",
              "  <thead>\n",
              "    <tr style=\"text-align: right;\">\n",
              "      <th></th>\n",
              "      <th>ride_id</th>\n",
              "      <th>seat_number</th>\n",
              "      <th>payment_method</th>\n",
              "      <th>payment_receipt</th>\n",
              "      <th>travel_date</th>\n",
              "      <th>travel_time</th>\n",
              "      <th>travel_from</th>\n",
              "      <th>travel_to</th>\n",
              "      <th>car_type</th>\n",
              "      <th>max_capacity</th>\n",
              "    </tr>\n",
              "  </thead>\n",
              "  <tbody>\n",
              "    <tr>\n",
              "      <th>0</th>\n",
              "      <td>1442</td>\n",
              "      <td>15A</td>\n",
              "      <td>Mpesa</td>\n",
              "      <td>UZUEHCBUSO</td>\n",
              "      <td>17-10-17</td>\n",
              "      <td>7:15</td>\n",
              "      <td>Lajpat Nagar</td>\n",
              "      <td>New Delhi Railway Station</td>\n",
              "      <td>Bus</td>\n",
              "      <td>49</td>\n",
              "    </tr>\n",
              "    <tr>\n",
              "      <th>1</th>\n",
              "      <td>5437</td>\n",
              "      <td>14A</td>\n",
              "      <td>Mpesa</td>\n",
              "      <td>TIHLBUSGTE</td>\n",
              "      <td>19-11-17</td>\n",
              "      <td>7:12</td>\n",
              "      <td>Nehru Place</td>\n",
              "      <td>New Delhi Railway Station</td>\n",
              "      <td>Bus</td>\n",
              "      <td>49</td>\n",
              "    </tr>\n",
              "    <tr>\n",
              "      <th>2</th>\n",
              "      <td>5710</td>\n",
              "      <td>8B</td>\n",
              "      <td>Mpesa</td>\n",
              "      <td>EQX8Q5G19O</td>\n",
              "      <td>26-11-17</td>\n",
              "      <td>7:05</td>\n",
              "      <td>Janakpuri</td>\n",
              "      <td>India Gate</td>\n",
              "      <td>Bus</td>\n",
              "      <td>49</td>\n",
              "    </tr>\n",
              "    <tr>\n",
              "      <th>3</th>\n",
              "      <td>5777</td>\n",
              "      <td>19A</td>\n",
              "      <td>Mpesa</td>\n",
              "      <td>SGP18CL0ME</td>\n",
              "      <td>27-11-17</td>\n",
              "      <td>7:10</td>\n",
              "      <td>New Delhi Railway Station</td>\n",
              "      <td>Hauz Khas</td>\n",
              "      <td>Bus</td>\n",
              "      <td>49</td>\n",
              "    </tr>\n",
              "    <tr>\n",
              "      <th>4</th>\n",
              "      <td>5778</td>\n",
              "      <td>11A</td>\n",
              "      <td>Mpesa</td>\n",
              "      <td>BM97HFRGL9</td>\n",
              "      <td>27-11-17</td>\n",
              "      <td>7:12</td>\n",
              "      <td>Vasant Kunj</td>\n",
              "      <td>India Gate</td>\n",
              "      <td>Bus</td>\n",
              "      <td>49</td>\n",
              "    </tr>\n",
              "  </tbody>\n",
              "</table>\n",
              "</div>"
            ],
            "text/plain": [
              "   ride_id seat_number payment_method payment_receipt travel_date travel_time  \\\n",
              "0     1442         15A          Mpesa      UZUEHCBUSO    17-10-17        7:15   \n",
              "1     5437         14A          Mpesa      TIHLBUSGTE    19-11-17        7:12   \n",
              "2     5710          8B          Mpesa      EQX8Q5G19O    26-11-17        7:05   \n",
              "3     5777         19A          Mpesa      SGP18CL0ME    27-11-17        7:10   \n",
              "4     5778         11A          Mpesa      BM97HFRGL9    27-11-17        7:12   \n",
              "\n",
              "                 travel_from                  travel_to car_type  max_capacity  \n",
              "0               Lajpat Nagar  New Delhi Railway Station      Bus            49  \n",
              "1                Nehru Place  New Delhi Railway Station      Bus            49  \n",
              "2                  Janakpuri                 India Gate      Bus            49  \n",
              "3  New Delhi Railway Station                  Hauz Khas      Bus            49  \n",
              "4                Vasant Kunj                 India Gate      Bus            49  "
            ]
          },
          "execution_count": 91,
          "metadata": {},
          "output_type": "execute_result"
        }
      ],
      "source": [
        "df = pd.read_csv('data/updated_train_revised.csv')\n",
        "df.head()"
      ]
    },
    {
      "cell_type": "code",
      "execution_count": 92,
      "metadata": {
        "colab": {
          "base_uri": "https://localhost:8080/"
        },
        "id": "x-_8HwZanGz2",
        "outputId": "56e7f0f3-0296-4fd0-bc1d-f6fcb2c95f6c"
      },
      "outputs": [
        {
          "name": "stdout",
          "output_type": "stream",
          "text": [
            "There are 473285 rows and 10 columns\n"
          ]
        }
      ],
      "source": [
        "df.shape\n",
        "\n",
        "print(f'There are {df.shape[0]} rows and {df.shape[1]} columns')\n"
      ]
    },
    {
      "cell_type": "code",
      "execution_count": 93,
      "metadata": {
        "colab": {
          "base_uri": "https://localhost:8080/"
        },
        "id": "W4yT9bHinLJ2",
        "outputId": "78a8af83-48c3-4443-f8dd-fe862c0b3848"
      },
      "outputs": [
        {
          "name": "stdout",
          "output_type": "stream",
          "text": [
            "<class 'pandas.core.frame.DataFrame'>\n",
            "RangeIndex: 473285 entries, 0 to 473284\n",
            "Data columns (total 10 columns):\n",
            " #   Column           Non-Null Count   Dtype \n",
            "---  ------           --------------   ----- \n",
            " 0   ride_id          473285 non-null  int64 \n",
            " 1   seat_number      473285 non-null  object\n",
            " 2   payment_method   473285 non-null  object\n",
            " 3   payment_receipt  473285 non-null  object\n",
            " 4   travel_date      473285 non-null  object\n",
            " 5   travel_time      473285 non-null  object\n",
            " 6   travel_from      473285 non-null  object\n",
            " 7   travel_to        473285 non-null  object\n",
            " 8   car_type         473285 non-null  object\n",
            " 9   max_capacity     473285 non-null  int64 \n",
            "dtypes: int64(2), object(8)\n",
            "memory usage: 36.1+ MB\n"
          ]
        }
      ],
      "source": [
        "df.info()"
      ]
    },
    {
      "cell_type": "code",
      "execution_count": 94,
      "metadata": {
        "colab": {
          "base_uri": "https://localhost:8080/"
        },
        "id": "OAWgLAuUnOFm",
        "outputId": "6317e0db-85fd-484f-fe2f-ae74275d24e9"
      },
      "outputs": [
        {
          "data": {
            "text/plain": [
              "False    458905\n",
              "True      14380\n",
              "Name: count, dtype: int64"
            ]
          },
          "execution_count": 94,
          "metadata": {},
          "output_type": "execute_result"
        }
      ],
      "source": [
        "df.duplicated().value_counts()"
      ]
    },
    {
      "cell_type": "code",
      "execution_count": 95,
      "metadata": {
        "colab": {
          "base_uri": "https://localhost:8080/"
        },
        "id": "JX6GJCZ2nQa-",
        "outputId": "7aeac8fd-ca18-481b-bca7-163e328cd263"
      },
      "outputs": [
        {
          "data": {
            "text/plain": [
              "ride_id            0\n",
              "seat_number        0\n",
              "payment_method     0\n",
              "payment_receipt    0\n",
              "travel_date        0\n",
              "travel_time        0\n",
              "travel_from        0\n",
              "travel_to          0\n",
              "car_type           0\n",
              "max_capacity       0\n",
              "dtype: int64"
            ]
          },
          "execution_count": 95,
          "metadata": {},
          "output_type": "execute_result"
        }
      ],
      "source": [
        "df.isnull().sum()"
      ]
    },
    {
      "cell_type": "code",
      "execution_count": 96,
      "metadata": {
        "colab": {
          "base_uri": "https://localhost:8080/"
        },
        "id": "HV_raGWQnRu-",
        "outputId": "35d2ac84-8712-4acb-ee45-05018c2165f0"
      },
      "outputs": [
        {
          "data": {
            "text/plain": [
              "Index(['ride_id', 'seat_number', 'payment_method', 'payment_receipt',\n",
              "       'travel_date', 'travel_time', 'travel_from', 'travel_to', 'car_type',\n",
              "       'max_capacity'],\n",
              "      dtype='object')"
            ]
          },
          "execution_count": 96,
          "metadata": {},
          "output_type": "execute_result"
        }
      ],
      "source": [
        "df.columns"
      ]
    },
    {
      "cell_type": "code",
      "execution_count": 97,
      "metadata": {
        "colab": {
          "base_uri": "https://localhost:8080/",
          "height": 175
        },
        "id": "jsvaXrypnXYO",
        "outputId": "bf43f3d7-d17b-4f73-f5f7-d746e7823553"
      },
      "outputs": [
        {
          "data": {
            "text/html": [
              "<div>\n",
              "<style scoped>\n",
              "    .dataframe tbody tr th:only-of-type {\n",
              "        vertical-align: middle;\n",
              "    }\n",
              "\n",
              "    .dataframe tbody tr th {\n",
              "        vertical-align: top;\n",
              "    }\n",
              "\n",
              "    .dataframe thead th {\n",
              "        text-align: right;\n",
              "    }\n",
              "</style>\n",
              "<table border=\"1\" class=\"dataframe\">\n",
              "  <thead>\n",
              "    <tr style=\"text-align: right;\">\n",
              "      <th></th>\n",
              "      <th>seat_number</th>\n",
              "      <th>payment_method</th>\n",
              "      <th>payment_receipt</th>\n",
              "      <th>travel_date</th>\n",
              "      <th>travel_time</th>\n",
              "      <th>travel_from</th>\n",
              "      <th>travel_to</th>\n",
              "      <th>car_type</th>\n",
              "    </tr>\n",
              "  </thead>\n",
              "  <tbody>\n",
              "    <tr>\n",
              "      <th>count</th>\n",
              "      <td>473285</td>\n",
              "      <td>473285</td>\n",
              "      <td>473285</td>\n",
              "      <td>473285</td>\n",
              "      <td>473285</td>\n",
              "      <td>473285</td>\n",
              "      <td>473285</td>\n",
              "      <td>473285</td>\n",
              "    </tr>\n",
              "    <tr>\n",
              "      <th>unique</th>\n",
              "      <td>61</td>\n",
              "      <td>2</td>\n",
              "      <td>51645</td>\n",
              "      <td>149</td>\n",
              "      <td>78</td>\n",
              "      <td>12</td>\n",
              "      <td>12</td>\n",
              "      <td>2</td>\n",
              "    </tr>\n",
              "    <tr>\n",
              "      <th>top</th>\n",
              "      <td>1</td>\n",
              "      <td>Mpesa</td>\n",
              "      <td>164HMVZXZW</td>\n",
              "      <td>10-12-17</td>\n",
              "      <td>7:09</td>\n",
              "      <td>Hauz Khas</td>\n",
              "      <td>Lajpat Nagar</td>\n",
              "      <td>Bus</td>\n",
              "    </tr>\n",
              "    <tr>\n",
              "      <th>freq</th>\n",
              "      <td>18903</td>\n",
              "      <td>472253</td>\n",
              "      <td>10</td>\n",
              "      <td>7881</td>\n",
              "      <td>36009</td>\n",
              "      <td>39650</td>\n",
              "      <td>40063</td>\n",
              "      <td>293019</td>\n",
              "    </tr>\n",
              "  </tbody>\n",
              "</table>\n",
              "</div>"
            ],
            "text/plain": [
              "       seat_number payment_method payment_receipt travel_date travel_time  \\\n",
              "count       473285         473285          473285      473285      473285   \n",
              "unique          61              2           51645         149          78   \n",
              "top              1          Mpesa      164HMVZXZW    10-12-17        7:09   \n",
              "freq         18903         472253              10        7881       36009   \n",
              "\n",
              "       travel_from     travel_to car_type  \n",
              "count       473285        473285   473285  \n",
              "unique          12            12        2  \n",
              "top      Hauz Khas  Lajpat Nagar      Bus  \n",
              "freq         39650         40063   293019  "
            ]
          },
          "execution_count": 97,
          "metadata": {},
          "output_type": "execute_result"
        }
      ],
      "source": [
        "df.describe(include='object')"
      ]
    },
    {
      "cell_type": "code",
      "execution_count": 98,
      "metadata": {
        "colab": {
          "base_uri": "https://localhost:8080/",
          "height": 300
        },
        "id": "GLvYqwJ9ng4J",
        "outputId": "456cb897-af4e-4f4c-e3be-a2c7249608ea"
      },
      "outputs": [
        {
          "data": {
            "text/html": [
              "<div>\n",
              "<style scoped>\n",
              "    .dataframe tbody tr th:only-of-type {\n",
              "        vertical-align: middle;\n",
              "    }\n",
              "\n",
              "    .dataframe tbody tr th {\n",
              "        vertical-align: top;\n",
              "    }\n",
              "\n",
              "    .dataframe thead th {\n",
              "        text-align: right;\n",
              "    }\n",
              "</style>\n",
              "<table border=\"1\" class=\"dataframe\">\n",
              "  <thead>\n",
              "    <tr style=\"text-align: right;\">\n",
              "      <th></th>\n",
              "      <th>ride_id</th>\n",
              "      <th>max_capacity</th>\n",
              "    </tr>\n",
              "  </thead>\n",
              "  <tbody>\n",
              "    <tr>\n",
              "      <th>count</th>\n",
              "      <td>473285.000000</td>\n",
              "      <td>473285.000000</td>\n",
              "    </tr>\n",
              "    <tr>\n",
              "      <th>mean</th>\n",
              "      <td>10187.690461</td>\n",
              "      <td>34.526463</td>\n",
              "    </tr>\n",
              "    <tr>\n",
              "      <th>std</th>\n",
              "      <td>2211.651904</td>\n",
              "      <td>18.452963</td>\n",
              "    </tr>\n",
              "    <tr>\n",
              "      <th>min</th>\n",
              "      <td>1442.000000</td>\n",
              "      <td>11.000000</td>\n",
              "    </tr>\n",
              "    <tr>\n",
              "      <th>25%</th>\n",
              "      <td>8286.000000</td>\n",
              "      <td>11.000000</td>\n",
              "    </tr>\n",
              "    <tr>\n",
              "      <th>50%</th>\n",
              "      <td>10352.000000</td>\n",
              "      <td>49.000000</td>\n",
              "    </tr>\n",
              "    <tr>\n",
              "      <th>75%</th>\n",
              "      <td>12029.000000</td>\n",
              "      <td>49.000000</td>\n",
              "    </tr>\n",
              "    <tr>\n",
              "      <th>max</th>\n",
              "      <td>20117.000000</td>\n",
              "      <td>49.000000</td>\n",
              "    </tr>\n",
              "  </tbody>\n",
              "</table>\n",
              "</div>"
            ],
            "text/plain": [
              "             ride_id   max_capacity\n",
              "count  473285.000000  473285.000000\n",
              "mean    10187.690461      34.526463\n",
              "std      2211.651904      18.452963\n",
              "min      1442.000000      11.000000\n",
              "25%      8286.000000      11.000000\n",
              "50%     10352.000000      49.000000\n",
              "75%     12029.000000      49.000000\n",
              "max     20117.000000      49.000000"
            ]
          },
          "execution_count": 98,
          "metadata": {},
          "output_type": "execute_result"
        }
      ],
      "source": [
        "df.describe()"
      ]
    },
    {
      "cell_type": "code",
      "execution_count": 99,
      "metadata": {
        "colab": {
          "base_uri": "https://localhost:8080/",
          "height": 143
        },
        "id": "pq_2V6vUnqmS",
        "outputId": "d458bbb5-90af-478a-e41a-022c8f43dc6c"
      },
      "outputs": [
        {
          "data": {
            "text/html": [
              "<div>\n",
              "<style scoped>\n",
              "    .dataframe tbody tr th:only-of-type {\n",
              "        vertical-align: middle;\n",
              "    }\n",
              "\n",
              "    .dataframe tbody tr th {\n",
              "        vertical-align: top;\n",
              "    }\n",
              "\n",
              "    .dataframe thead th {\n",
              "        text-align: right;\n",
              "    }\n",
              "</style>\n",
              "<table border=\"1\" class=\"dataframe\">\n",
              "  <thead>\n",
              "    <tr style=\"text-align: right;\">\n",
              "      <th></th>\n",
              "      <th>ride_id</th>\n",
              "      <th>seat_number</th>\n",
              "      <th>payment_method</th>\n",
              "      <th>payment_receipt</th>\n",
              "      <th>travel_date</th>\n",
              "      <th>travel_time</th>\n",
              "      <th>travel_from</th>\n",
              "      <th>travel_to</th>\n",
              "      <th>car_type</th>\n",
              "      <th>max_capacity</th>\n",
              "    </tr>\n",
              "  </thead>\n",
              "  <tbody>\n",
              "    <tr>\n",
              "      <th>0</th>\n",
              "      <td>1442</td>\n",
              "      <td>15A</td>\n",
              "      <td>Mpesa</td>\n",
              "      <td>UZUEHCBUSO</td>\n",
              "      <td>17-10-17</td>\n",
              "      <td>7:15</td>\n",
              "      <td>Lajpat Nagar</td>\n",
              "      <td>New Delhi Railway Station</td>\n",
              "      <td>Bus</td>\n",
              "      <td>49</td>\n",
              "    </tr>\n",
              "    <tr>\n",
              "      <th>1</th>\n",
              "      <td>5437</td>\n",
              "      <td>14A</td>\n",
              "      <td>Mpesa</td>\n",
              "      <td>TIHLBUSGTE</td>\n",
              "      <td>19-11-17</td>\n",
              "      <td>7:12</td>\n",
              "      <td>Nehru Place</td>\n",
              "      <td>New Delhi Railway Station</td>\n",
              "      <td>Bus</td>\n",
              "      <td>49</td>\n",
              "    </tr>\n",
              "    <tr>\n",
              "      <th>2</th>\n",
              "      <td>5710</td>\n",
              "      <td>8B</td>\n",
              "      <td>Mpesa</td>\n",
              "      <td>EQX8Q5G19O</td>\n",
              "      <td>26-11-17</td>\n",
              "      <td>7:05</td>\n",
              "      <td>Janakpuri</td>\n",
              "      <td>India Gate</td>\n",
              "      <td>Bus</td>\n",
              "      <td>49</td>\n",
              "    </tr>\n",
              "  </tbody>\n",
              "</table>\n",
              "</div>"
            ],
            "text/plain": [
              "   ride_id seat_number payment_method payment_receipt travel_date travel_time  \\\n",
              "0     1442         15A          Mpesa      UZUEHCBUSO    17-10-17        7:15   \n",
              "1     5437         14A          Mpesa      TIHLBUSGTE    19-11-17        7:12   \n",
              "2     5710          8B          Mpesa      EQX8Q5G19O    26-11-17        7:05   \n",
              "\n",
              "    travel_from                  travel_to car_type  max_capacity  \n",
              "0  Lajpat Nagar  New Delhi Railway Station      Bus            49  \n",
              "1   Nehru Place  New Delhi Railway Station      Bus            49  \n",
              "2     Janakpuri                 India Gate      Bus            49  "
            ]
          },
          "execution_count": 99,
          "metadata": {},
          "output_type": "execute_result"
        }
      ],
      "source": [
        "df.head(3)"
      ]
    },
    {
      "cell_type": "code",
      "execution_count": 100,
      "metadata": {
        "colab": {
          "base_uri": "https://localhost:8080/"
        },
        "id": "RmyZ8lrsutpD",
        "outputId": "f5d6a657-24c1-40e1-f26e-163870765d1e"
      },
      "outputs": [
        {
          "data": {
            "text/plain": [
              "array([ 1442,  5437,  5710, ...,  6041,  9966, 10316], dtype=int64)"
            ]
          },
          "execution_count": 100,
          "metadata": {},
          "output_type": "execute_result"
        }
      ],
      "source": [
        "df['ride_id'].unique()"
      ]
    },
    {
      "cell_type": "code",
      "execution_count": 84,
      "metadata": {
        "colab": {
          "base_uri": "https://localhost:8080/",
          "height": 206
        },
        "id": "Wl6r7NT5noCf",
        "outputId": "148bb20b-af0a-4e7b-e7fb-e7fd37169a77"
      },
      "outputs": [
        {
          "data": {
            "text/html": [
              "<div>\n",
              "<style scoped>\n",
              "    .dataframe tbody tr th:only-of-type {\n",
              "        vertical-align: middle;\n",
              "    }\n",
              "\n",
              "    .dataframe tbody tr th {\n",
              "        vertical-align: top;\n",
              "    }\n",
              "\n",
              "    .dataframe thead th {\n",
              "        text-align: right;\n",
              "    }\n",
              "</style>\n",
              "<table border=\"1\" class=\"dataframe\">\n",
              "  <thead>\n",
              "    <tr style=\"text-align: right;\">\n",
              "      <th></th>\n",
              "      <th>ride_id</th>\n",
              "      <th>number_of_ticket</th>\n",
              "    </tr>\n",
              "  </thead>\n",
              "  <tbody>\n",
              "    <tr>\n",
              "      <th>0</th>\n",
              "      <td>1442</td>\n",
              "      <td>8</td>\n",
              "    </tr>\n",
              "    <tr>\n",
              "      <th>1</th>\n",
              "      <td>5437</td>\n",
              "      <td>9</td>\n",
              "    </tr>\n",
              "    <tr>\n",
              "      <th>2</th>\n",
              "      <td>5710</td>\n",
              "      <td>10</td>\n",
              "    </tr>\n",
              "    <tr>\n",
              "      <th>3</th>\n",
              "      <td>5777</td>\n",
              "      <td>44</td>\n",
              "    </tr>\n",
              "    <tr>\n",
              "      <th>4</th>\n",
              "      <td>5778</td>\n",
              "      <td>283</td>\n",
              "    </tr>\n",
              "  </tbody>\n",
              "</table>\n",
              "</div>"
            ],
            "text/plain": [
              "   ride_id  number_of_ticket\n",
              "0     1442                 8\n",
              "1     5437                 9\n",
              "2     5710                10\n",
              "3     5777                44\n",
              "4     5778               283"
            ]
          },
          "execution_count": 84,
          "metadata": {},
          "output_type": "execute_result"
        }
      ],
      "source": [
        "temp_df = df.groupby('ride_id')['seat_number'].count().reset_index()\n",
        "temp_df.rename(columns = {'seat_number':'number_of_ticket'},inplace=True)\n",
        "temp_df.head()"
      ]
    },
    {
      "cell_type": "code",
      "execution_count": 101,
      "metadata": {
        "colab": {
          "base_uri": "https://localhost:8080/"
        },
        "id": "jOK7Mdy0n3va",
        "outputId": "462081ee-745b-4a22-a77e-bf7a564b1cca"
      },
      "outputs": [
        {
          "data": {
            "text/plain": [
              "(473285, 6)"
            ]
          },
          "execution_count": 101,
          "metadata": {},
          "output_type": "execute_result"
        }
      ],
      "source": [
        "df.drop(['seat_number','payment_method','payment_receipt','travel_to'],axis=1, inplace=True)\n",
        "df.shape"
      ]
    },
    {
      "cell_type": "code",
      "execution_count": 102,
      "metadata": {
        "colab": {
          "base_uri": "https://localhost:8080/"
        },
        "id": "J5ICO0M2oBv7",
        "outputId": "d76327a3-5b81-48a6-a48a-28472598a62b"
      },
      "outputs": [
        {
          "data": {
            "text/plain": [
              "(6249, 6)"
            ]
          },
          "execution_count": 102,
          "metadata": {},
          "output_type": "execute_result"
        }
      ],
      "source": [
        "df.drop_duplicates('ride_id',inplace=True)\n",
        "df.shape"
      ]
    },
    {
      "cell_type": "code",
      "execution_count": 103,
      "metadata": {
        "colab": {
          "base_uri": "https://localhost:8080/",
          "height": 206
        },
        "id": "_K0aBE6IoGwM",
        "outputId": "f7e6c0e0-c1d7-42ec-9c6d-238b6bbbbfb7"
      },
      "outputs": [
        {
          "data": {
            "text/html": [
              "<div>\n",
              "<style scoped>\n",
              "    .dataframe tbody tr th:only-of-type {\n",
              "        vertical-align: middle;\n",
              "    }\n",
              "\n",
              "    .dataframe tbody tr th {\n",
              "        vertical-align: top;\n",
              "    }\n",
              "\n",
              "    .dataframe thead th {\n",
              "        text-align: right;\n",
              "    }\n",
              "</style>\n",
              "<table border=\"1\" class=\"dataframe\">\n",
              "  <thead>\n",
              "    <tr style=\"text-align: right;\">\n",
              "      <th></th>\n",
              "      <th>ride_id</th>\n",
              "      <th>travel_date</th>\n",
              "      <th>travel_time</th>\n",
              "      <th>travel_from</th>\n",
              "      <th>car_type</th>\n",
              "      <th>max_capacity</th>\n",
              "      <th>number_of_ticket</th>\n",
              "    </tr>\n",
              "  </thead>\n",
              "  <tbody>\n",
              "    <tr>\n",
              "      <th>0</th>\n",
              "      <td>1442</td>\n",
              "      <td>17-10-17</td>\n",
              "      <td>7:15</td>\n",
              "      <td>Lajpat Nagar</td>\n",
              "      <td>Bus</td>\n",
              "      <td>49</td>\n",
              "      <td>8</td>\n",
              "    </tr>\n",
              "    <tr>\n",
              "      <th>1</th>\n",
              "      <td>5437</td>\n",
              "      <td>19-11-17</td>\n",
              "      <td>7:12</td>\n",
              "      <td>Nehru Place</td>\n",
              "      <td>Bus</td>\n",
              "      <td>49</td>\n",
              "      <td>9</td>\n",
              "    </tr>\n",
              "    <tr>\n",
              "      <th>2</th>\n",
              "      <td>5710</td>\n",
              "      <td>26-11-17</td>\n",
              "      <td>7:05</td>\n",
              "      <td>Janakpuri</td>\n",
              "      <td>Bus</td>\n",
              "      <td>49</td>\n",
              "      <td>10</td>\n",
              "    </tr>\n",
              "    <tr>\n",
              "      <th>3</th>\n",
              "      <td>5777</td>\n",
              "      <td>27-11-17</td>\n",
              "      <td>7:10</td>\n",
              "      <td>New Delhi Railway Station</td>\n",
              "      <td>Bus</td>\n",
              "      <td>49</td>\n",
              "      <td>44</td>\n",
              "    </tr>\n",
              "    <tr>\n",
              "      <th>4</th>\n",
              "      <td>5778</td>\n",
              "      <td>27-11-17</td>\n",
              "      <td>7:12</td>\n",
              "      <td>Vasant Kunj</td>\n",
              "      <td>Bus</td>\n",
              "      <td>49</td>\n",
              "      <td>283</td>\n",
              "    </tr>\n",
              "  </tbody>\n",
              "</table>\n",
              "</div>"
            ],
            "text/plain": [
              "   ride_id travel_date travel_time                travel_from car_type  \\\n",
              "0     1442    17-10-17        7:15               Lajpat Nagar      Bus   \n",
              "1     5437    19-11-17        7:12                Nehru Place      Bus   \n",
              "2     5710    26-11-17        7:05                  Janakpuri      Bus   \n",
              "3     5777    27-11-17        7:10  New Delhi Railway Station      Bus   \n",
              "4     5778    27-11-17        7:12                Vasant Kunj      Bus   \n",
              "\n",
              "   max_capacity  number_of_ticket  \n",
              "0            49                 8  \n",
              "1            49                 9  \n",
              "2            49                10  \n",
              "3            49                44  \n",
              "4            49               283  "
            ]
          },
          "execution_count": 103,
          "metadata": {},
          "output_type": "execute_result"
        }
      ],
      "source": [
        "df = df.merge(temp_df, how='left', on='ride_id')\n",
        "df.head()"
      ]
    },
    {
      "cell_type": "code",
      "execution_count": 104,
      "metadata": {
        "id": "ju4-mRTjoQC1"
      },
      "outputs": [
        {
          "name": "stderr",
          "output_type": "stream",
          "text": [
            "C:\\Users\\mayan\\AppData\\Local\\Temp\\ipykernel_18500\\943518647.py:1: UserWarning: Could not infer format, so each element will be parsed individually, falling back to `dateutil`. To ensure parsing is consistent and as-expected, please specify a format.\n",
            "  df['date_time'] = pd.to_datetime(df['travel_date'] +\" \"+ df['travel_time'])\n",
            "C:\\Users\\mayan\\AppData\\Local\\Temp\\ipykernel_18500\\943518647.py:2: UserWarning: Could not infer format, so each element will be parsed individually, falling back to `dateutil`. To ensure parsing is consistent and as-expected, please specify a format.\n",
            "  df['travel_date'] = pd.to_datetime(df['travel_date'])\n"
          ]
        }
      ],
      "source": [
        "df['date_time'] = pd.to_datetime(df['travel_date'] +\" \"+ df['travel_time'])\n",
        "df['travel_date'] = pd.to_datetime(df['travel_date'])\n",
        "#df['travel_time'] = pd.to_datetime(df['travel_time'])"
      ]
    },
    {
      "cell_type": "code",
      "execution_count": 105,
      "metadata": {
        "id": "69BkhtF_oY-H"
      },
      "outputs": [],
      "source": [
        "import warnings\n",
        "warnings.filterwarnings('ignore')"
      ]
    },
    {
      "cell_type": "code",
      "execution_count": 106,
      "metadata": {
        "colab": {
          "base_uri": "https://localhost:8080/",
          "height": 553
        },
        "id": "8kl8Kcj5swYj",
        "outputId": "0d0948c7-473e-4aec-fe27-0f16d9968170"
      },
      "outputs": [
        {
          "data": {
            "text/plain": [
              "Text(0.5, 1.0, 'Total tickets from each origin place')"
            ]
          },
          "execution_count": 106,
          "metadata": {},
          "output_type": "execute_result"
        },
        {
          "data": {
            "image/png": "[encoded data removed]",
            "text/plain": [
              "<Figure size 640x480 with 1 Axes>"
            ]
          },
          "metadata": {},
          "output_type": "display_data"
        }
      ],
      "source": [
        "sns.barplot(data=df,x='travel_from',y='number_of_ticket')\n",
        "plt.xticks(rotation=90)\n",
        "plt.title('Total tickets from each origin place')"
      ]
    },
    {
      "cell_type": "code",
      "execution_count": 107,
      "metadata": {
        "colab": {
          "base_uri": "https://localhost:8080/",
          "height": 760
        },
        "id": "C-uMib8s1Tkh",
        "outputId": "7b250b0c-f3b4-4ec7-df95-a29e6f277dff"
      },
      "outputs": [
        {
          "data": {
            "image/png": "[encoded data removed]",
            "text/plain": [
              "<Figure size 800x800 with 1 Axes>"
            ]
          },
          "metadata": {},
          "output_type": "display_data"
        }
      ],
      "source": [
        "plt.figure(figsize=(8,8))\n",
        "sns.histplot(data=df,x='travel_from',hue='travel_from')\n",
        "plt.xticks(rotation=90)\n",
        "plt.show()"
      ]
    },
    {
      "cell_type": "code",
      "execution_count": 108,
      "metadata": {
        "id": "Y9698JEO2NID"
      },
      "outputs": [],
      "source": [
        "df_copy = df.copy()"
      ]
    },
    {
      "cell_type": "code",
      "execution_count": 109,
      "metadata": {
        "colab": {
          "base_uri": "https://localhost:8080/",
          "height": 81
        },
        "id": "uI1keQv35tah",
        "outputId": "7f47d101-2596-4d6b-d352-f790ac0246ee"
      },
      "outputs": [
        {
          "data": {
            "text/html": [
              "<div>\n",
              "<style scoped>\n",
              "    .dataframe tbody tr th:only-of-type {\n",
              "        vertical-align: middle;\n",
              "    }\n",
              "\n",
              "    .dataframe tbody tr th {\n",
              "        vertical-align: top;\n",
              "    }\n",
              "\n",
              "    .dataframe thead th {\n",
              "        text-align: right;\n",
              "    }\n",
              "</style>\n",
              "<table border=\"1\" class=\"dataframe\">\n",
              "  <thead>\n",
              "    <tr style=\"text-align: right;\">\n",
              "      <th></th>\n",
              "      <th>ride_id</th>\n",
              "      <th>travel_date</th>\n",
              "      <th>travel_time</th>\n",
              "      <th>travel_from</th>\n",
              "      <th>car_type</th>\n",
              "      <th>max_capacity</th>\n",
              "      <th>number_of_ticket</th>\n",
              "      <th>date_time</th>\n",
              "    </tr>\n",
              "  </thead>\n",
              "  <tbody>\n",
              "    <tr>\n",
              "      <th>0</th>\n",
              "      <td>1442</td>\n",
              "      <td>2017-10-17</td>\n",
              "      <td>7:15</td>\n",
              "      <td>Lajpat Nagar</td>\n",
              "      <td>Bus</td>\n",
              "      <td>49</td>\n",
              "      <td>8</td>\n",
              "      <td>2017-10-17 07:15:00</td>\n",
              "    </tr>\n",
              "  </tbody>\n",
              "</table>\n",
              "</div>"
            ],
            "text/plain": [
              "   ride_id travel_date travel_time   travel_from car_type  max_capacity  \\\n",
              "0     1442  2017-10-17        7:15  Lajpat Nagar      Bus            49   \n",
              "\n",
              "   number_of_ticket           date_time  \n",
              "0                 8 2017-10-17 07:15:00  "
            ]
          },
          "execution_count": 109,
          "metadata": {},
          "output_type": "execute_result"
        }
      ],
      "source": [
        "df_copy.head(1)"
      ]
    },
    {
      "cell_type": "code",
      "execution_count": 110,
      "metadata": {
        "id": "fX9T027z5o7-"
      },
      "outputs": [],
      "source": [
        "#Creating additonal features with travel_date and travel_time columns\n",
        "def create_date_cols(df_temp):\n",
        "  df_temp['travel_month'] = df_temp['travel_date'].dt.month\n",
        "  df_temp['travel_year'] = df_temp['travel_date'].dt.year\n",
        "  df_temp['travel_day_of_month'] = df_temp['travel_date'].dt.day\n",
        "  df_temp['travel_day_of_year'] = df_temp['travel_date'].dt.dayofyear\n",
        "  df_temp['travel_day_of_week'] = df_temp['travel_date'].dt.dayofweek\n",
        "  df_temp['travel_hour'] = pd.to_datetime(df_temp['travel_time']).dt.hour\n",
        "  df_temp['quarter'] = df_temp['travel_date'].dt.quarter\n",
        "  df_temp['is_weekend'] = df_temp['travel_day_of_week'].apply(lambda x: 1 if x in [5,6] else 0)\n",
        "\n",
        "  return df_temp\n",
        "\n",
        "df_copy = create_date_cols(df_copy)"
      ]
    },
    {
      "cell_type": "code",
      "execution_count": 111,
      "metadata": {
        "colab": {
          "base_uri": "https://localhost:8080/"
        },
        "id": "tVhgm4-PvVww",
        "outputId": "6d65b4ec-55a3-4d12-f29a-3a92586462a5"
      },
      "outputs": [
        {
          "data": {
            "text/plain": [
              "Index(['ride_id', 'travel_date', 'travel_time', 'travel_from', 'car_type',\n",
              "       'max_capacity', 'number_of_ticket', 'date_time', 'travel_month',\n",
              "       'travel_year', 'travel_day_of_month', 'travel_day_of_year',\n",
              "       'travel_day_of_week', 'travel_hour', 'quarter', 'is_weekend'],\n",
              "      dtype='object')"
            ]
          },
          "execution_count": 111,
          "metadata": {},
          "output_type": "execute_result"
        }
      ],
      "source": [
        "df_copy.columns"
      ]
    },
    {
      "cell_type": "code",
      "execution_count": 112,
      "metadata": {
        "colab": {
          "base_uri": "https://localhost:8080/",
          "height": 443
        },
        "id": "Hu1ra6xXvXaA",
        "outputId": "6db36bf5-5c21-40e9-831d-f530a8c6c898"
      },
      "outputs": [
        {
          "data": {
            "text/html": [
              "<div>\n",
              "<style scoped>\n",
              "    .dataframe tbody tr th:only-of-type {\n",
              "        vertical-align: middle;\n",
              "    }\n",
              "\n",
              "    .dataframe tbody tr th {\n",
              "        vertical-align: top;\n",
              "    }\n",
              "\n",
              "    .dataframe thead th {\n",
              "        text-align: right;\n",
              "    }\n",
              "</style>\n",
              "<table border=\"1\" class=\"dataframe\">\n",
              "  <thead>\n",
              "    <tr style=\"text-align: right;\">\n",
              "      <th></th>\n",
              "      <th>ride_id</th>\n",
              "      <th>travel_date</th>\n",
              "      <th>travel_time</th>\n",
              "      <th>travel_from</th>\n",
              "      <th>car_type</th>\n",
              "      <th>max_capacity</th>\n",
              "      <th>number_of_ticket</th>\n",
              "      <th>date_time</th>\n",
              "      <th>travel_month</th>\n",
              "      <th>travel_year</th>\n",
              "      <th>travel_day_of_month</th>\n",
              "      <th>travel_day_of_year</th>\n",
              "      <th>travel_day_of_week</th>\n",
              "      <th>travel_hour</th>\n",
              "      <th>quarter</th>\n",
              "      <th>is_weekend</th>\n",
              "    </tr>\n",
              "  </thead>\n",
              "  <tbody>\n",
              "    <tr>\n",
              "      <th>0</th>\n",
              "      <td>1442</td>\n",
              "      <td>2017-10-17</td>\n",
              "      <td>7:15</td>\n",
              "      <td>Lajpat Nagar</td>\n",
              "      <td>Bus</td>\n",
              "      <td>49</td>\n",
              "      <td>8</td>\n",
              "      <td>2017-10-17 07:15:00</td>\n",
              "      <td>10</td>\n",
              "      <td>2017</td>\n",
              "      <td>17</td>\n",
              "      <td>290</td>\n",
              "      <td>1</td>\n",
              "      <td>7</td>\n",
              "      <td>4</td>\n",
              "      <td>0</td>\n",
              "    </tr>\n",
              "    <tr>\n",
              "      <th>1</th>\n",
              "      <td>5437</td>\n",
              "      <td>2017-11-19</td>\n",
              "      <td>7:12</td>\n",
              "      <td>Nehru Place</td>\n",
              "      <td>Bus</td>\n",
              "      <td>49</td>\n",
              "      <td>9</td>\n",
              "      <td>2017-11-19 07:12:00</td>\n",
              "      <td>11</td>\n",
              "      <td>2017</td>\n",
              "      <td>19</td>\n",
              "      <td>323</td>\n",
              "      <td>6</td>\n",
              "      <td>7</td>\n",
              "      <td>4</td>\n",
              "      <td>1</td>\n",
              "    </tr>\n",
              "    <tr>\n",
              "      <th>2</th>\n",
              "      <td>5710</td>\n",
              "      <td>2017-11-26</td>\n",
              "      <td>7:05</td>\n",
              "      <td>Janakpuri</td>\n",
              "      <td>Bus</td>\n",
              "      <td>49</td>\n",
              "      <td>10</td>\n",
              "      <td>2017-11-26 07:05:00</td>\n",
              "      <td>11</td>\n",
              "      <td>2017</td>\n",
              "      <td>26</td>\n",
              "      <td>330</td>\n",
              "      <td>6</td>\n",
              "      <td>7</td>\n",
              "      <td>4</td>\n",
              "      <td>1</td>\n",
              "    </tr>\n",
              "    <tr>\n",
              "      <th>3</th>\n",
              "      <td>5777</td>\n",
              "      <td>2017-11-27</td>\n",
              "      <td>7:10</td>\n",
              "      <td>New Delhi Railway Station</td>\n",
              "      <td>Bus</td>\n",
              "      <td>49</td>\n",
              "      <td>44</td>\n",
              "      <td>2017-11-27 07:10:00</td>\n",
              "      <td>11</td>\n",
              "      <td>2017</td>\n",
              "      <td>27</td>\n",
              "      <td>331</td>\n",
              "      <td>0</td>\n",
              "      <td>7</td>\n",
              "      <td>4</td>\n",
              "      <td>0</td>\n",
              "    </tr>\n",
              "    <tr>\n",
              "      <th>4</th>\n",
              "      <td>5778</td>\n",
              "      <td>2017-11-27</td>\n",
              "      <td>7:12</td>\n",
              "      <td>Vasant Kunj</td>\n",
              "      <td>Bus</td>\n",
              "      <td>49</td>\n",
              "      <td>283</td>\n",
              "      <td>2017-11-27 07:12:00</td>\n",
              "      <td>11</td>\n",
              "      <td>2017</td>\n",
              "      <td>27</td>\n",
              "      <td>331</td>\n",
              "      <td>0</td>\n",
              "      <td>7</td>\n",
              "      <td>4</td>\n",
              "      <td>0</td>\n",
              "    </tr>\n",
              "  </tbody>\n",
              "</table>\n",
              "</div>"
            ],
            "text/plain": [
              "   ride_id travel_date travel_time                travel_from car_type  \\\n",
              "0     1442  2017-10-17        7:15               Lajpat Nagar      Bus   \n",
              "1     5437  2017-11-19        7:12                Nehru Place      Bus   \n",
              "2     5710  2017-11-26        7:05                  Janakpuri      Bus   \n",
              "3     5777  2017-11-27        7:10  New Delhi Railway Station      Bus   \n",
              "4     5778  2017-11-27        7:12                Vasant Kunj      Bus   \n",
              "\n",
              "   max_capacity  number_of_ticket           date_time  travel_month  \\\n",
              "0            49                 8 2017-10-17 07:15:00            10   \n",
              "1            49                 9 2017-11-19 07:12:00            11   \n",
              "2            49                10 2017-11-26 07:05:00            11   \n",
              "3            49                44 2017-11-27 07:10:00            11   \n",
              "4            49               283 2017-11-27 07:12:00            11   \n",
              "\n",
              "   travel_year  travel_day_of_month  travel_day_of_year  travel_day_of_week  \\\n",
              "0         2017                   17                 290                   1   \n",
              "1         2017                   19                 323                   6   \n",
              "2         2017                   26                 330                   6   \n",
              "3         2017                   27                 331                   0   \n",
              "4         2017                   27                 331                   0   \n",
              "\n",
              "   travel_hour  quarter  is_weekend  \n",
              "0            7        4           0  \n",
              "1            7        4           1  \n",
              "2            7        4           1  \n",
              "3            7        4           0  \n",
              "4            7        4           0  "
            ]
          },
          "execution_count": 112,
          "metadata": {},
          "output_type": "execute_result"
        }
      ],
      "source": [
        "df_copy.head()"
      ]
    },
    {
      "cell_type": "code",
      "execution_count": 113,
      "metadata": {
        "id": "Bq7CK_wNv1aj"
      },
      "outputs": [],
      "source": [
        "#Converting travel time into integer format\n",
        "df['travel_time'] = df['travel_time'].str.split(':').apply(lambda x: int(x[0]) + int(x[1])/60 )"
      ]
    },
    {
      "cell_type": "code",
      "execution_count": 114,
      "metadata": {
        "id": "gtrZG1tlUTaQ"
      },
      "outputs": [],
      "source": [
        "#Creating periods for time intervals\n",
        "def get_period(hour):\n",
        "  if hour<7: return 'em'\n",
        "  elif hour>=7 and hour<=11: return 'mor'\n",
        "  elif hour>11 and hour<=15: return 'an'\n",
        "  elif hour>15 and hour<=19: return 'evn'\n",
        "  elif hour>19 and hour<=24: return 'nght'\n",
        "\n",
        "df_copy['time_period_of_day'] = df_copy['travel_hour'].apply(get_period)"
      ]
    },
    {
      "cell_type": "code",
      "execution_count": 115,
      "metadata": {
        "colab": {
          "base_uri": "https://localhost:8080/",
          "height": 443
        },
        "id": "0RBfk9109epm",
        "outputId": "f5c80314-bd2a-4d0c-890d-46c8b28b3734"
      },
      "outputs": [
        {
          "data": {
            "text/html": [
              "<div>\n",
              "<style scoped>\n",
              "    .dataframe tbody tr th:only-of-type {\n",
              "        vertical-align: middle;\n",
              "    }\n",
              "\n",
              "    .dataframe tbody tr th {\n",
              "        vertical-align: top;\n",
              "    }\n",
              "\n",
              "    .dataframe thead th {\n",
              "        text-align: right;\n",
              "    }\n",
              "</style>\n",
              "<table border=\"1\" class=\"dataframe\">\n",
              "  <thead>\n",
              "    <tr style=\"text-align: right;\">\n",
              "      <th></th>\n",
              "      <th>ride_id</th>\n",
              "      <th>travel_date</th>\n",
              "      <th>travel_time</th>\n",
              "      <th>travel_from</th>\n",
              "      <th>car_type</th>\n",
              "      <th>max_capacity</th>\n",
              "      <th>number_of_ticket</th>\n",
              "      <th>date_time</th>\n",
              "      <th>travel_month</th>\n",
              "      <th>travel_year</th>\n",
              "      <th>travel_day_of_month</th>\n",
              "      <th>travel_day_of_year</th>\n",
              "      <th>travel_day_of_week</th>\n",
              "      <th>travel_hour</th>\n",
              "      <th>quarter</th>\n",
              "      <th>is_weekend</th>\n",
              "      <th>time_period_of_day</th>\n",
              "    </tr>\n",
              "  </thead>\n",
              "  <tbody>\n",
              "    <tr>\n",
              "      <th>0</th>\n",
              "      <td>1442</td>\n",
              "      <td>2017-10-17</td>\n",
              "      <td>7:15</td>\n",
              "      <td>Lajpat Nagar</td>\n",
              "      <td>Bus</td>\n",
              "      <td>49</td>\n",
              "      <td>8</td>\n",
              "      <td>2017-10-17 07:15:00</td>\n",
              "      <td>10</td>\n",
              "      <td>2017</td>\n",
              "      <td>17</td>\n",
              "      <td>290</td>\n",
              "      <td>1</td>\n",
              "      <td>7</td>\n",
              "      <td>4</td>\n",
              "      <td>0</td>\n",
              "      <td>mor</td>\n",
              "    </tr>\n",
              "    <tr>\n",
              "      <th>1</th>\n",
              "      <td>5437</td>\n",
              "      <td>2017-11-19</td>\n",
              "      <td>7:12</td>\n",
              "      <td>Nehru Place</td>\n",
              "      <td>Bus</td>\n",
              "      <td>49</td>\n",
              "      <td>9</td>\n",
              "      <td>2017-11-19 07:12:00</td>\n",
              "      <td>11</td>\n",
              "      <td>2017</td>\n",
              "      <td>19</td>\n",
              "      <td>323</td>\n",
              "      <td>6</td>\n",
              "      <td>7</td>\n",
              "      <td>4</td>\n",
              "      <td>1</td>\n",
              "      <td>mor</td>\n",
              "    </tr>\n",
              "    <tr>\n",
              "      <th>2</th>\n",
              "      <td>5710</td>\n",
              "      <td>2017-11-26</td>\n",
              "      <td>7:05</td>\n",
              "      <td>Janakpuri</td>\n",
              "      <td>Bus</td>\n",
              "      <td>49</td>\n",
              "      <td>10</td>\n",
              "      <td>2017-11-26 07:05:00</td>\n",
              "      <td>11</td>\n",
              "      <td>2017</td>\n",
              "      <td>26</td>\n",
              "      <td>330</td>\n",
              "      <td>6</td>\n",
              "      <td>7</td>\n",
              "      <td>4</td>\n",
              "      <td>1</td>\n",
              "      <td>mor</td>\n",
              "    </tr>\n",
              "    <tr>\n",
              "      <th>3</th>\n",
              "      <td>5777</td>\n",
              "      <td>2017-11-27</td>\n",
              "      <td>7:10</td>\n",
              "      <td>New Delhi Railway Station</td>\n",
              "      <td>Bus</td>\n",
              "      <td>49</td>\n",
              "      <td>44</td>\n",
              "      <td>2017-11-27 07:10:00</td>\n",
              "      <td>11</td>\n",
              "      <td>2017</td>\n",
              "      <td>27</td>\n",
              "      <td>331</td>\n",
              "      <td>0</td>\n",
              "      <td>7</td>\n",
              "      <td>4</td>\n",
              "      <td>0</td>\n",
              "      <td>mor</td>\n",
              "    </tr>\n",
              "    <tr>\n",
              "      <th>4</th>\n",
              "      <td>5778</td>\n",
              "      <td>2017-11-27</td>\n",
              "      <td>7:12</td>\n",
              "      <td>Vasant Kunj</td>\n",
              "      <td>Bus</td>\n",
              "      <td>49</td>\n",
              "      <td>283</td>\n",
              "      <td>2017-11-27 07:12:00</td>\n",
              "      <td>11</td>\n",
              "      <td>2017</td>\n",
              "      <td>27</td>\n",
              "      <td>331</td>\n",
              "      <td>0</td>\n",
              "      <td>7</td>\n",
              "      <td>4</td>\n",
              "      <td>0</td>\n",
              "      <td>mor</td>\n",
              "    </tr>\n",
              "  </tbody>\n",
              "</table>\n",
              "</div>"
            ],
            "text/plain": [
              "   ride_id travel_date travel_time                travel_from car_type  \\\n",
              "0     1442  2017-10-17        7:15               Lajpat Nagar      Bus   \n",
              "1     5437  2017-11-19        7:12                Nehru Place      Bus   \n",
              "2     5710  2017-11-26        7:05                  Janakpuri      Bus   \n",
              "3     5777  2017-11-27        7:10  New Delhi Railway Station      Bus   \n",
              "4     5778  2017-11-27        7:12                Vasant Kunj      Bus   \n",
              "\n",
              "   max_capacity  number_of_ticket           date_time  travel_month  \\\n",
              "0            49                 8 2017-10-17 07:15:00            10   \n",
              "1            49                 9 2017-11-19 07:12:00            11   \n",
              "2            49                10 2017-11-26 07:05:00            11   \n",
              "3            49                44 2017-11-27 07:10:00            11   \n",
              "4            49               283 2017-11-27 07:12:00            11   \n",
              "\n",
              "   travel_year  travel_day_of_month  travel_day_of_year  travel_day_of_week  \\\n",
              "0         2017                   17                 290                   1   \n",
              "1         2017                   19                 323                   6   \n",
              "2         2017                   26                 330                   6   \n",
              "3         2017                   27                 331                   0   \n",
              "4         2017                   27                 331                   0   \n",
              "\n",
              "   travel_hour  quarter  is_weekend time_period_of_day  \n",
              "0            7        4           0                mor  \n",
              "1            7        4           1                mor  \n",
              "2            7        4           1                mor  \n",
              "3            7        4           0                mor  \n",
              "4            7        4           0                mor  "
            ]
          },
          "execution_count": 115,
          "metadata": {},
          "output_type": "execute_result"
        }
      ],
      "source": [
        "df_copy.head()"
      ]
    },
    {
      "cell_type": "code",
      "execution_count": 116,
      "metadata": {
        "colab": {
          "base_uri": "https://localhost:8080/",
          "height": 467
        },
        "id": "b-HCAFnR9g82",
        "outputId": "bb496e98-b265-4257-c8bd-80c2f5b21fa8"
      },
      "outputs": [
        {
          "data": {
            "text/plain": [
              "<Axes: xlabel='travel_day_of_week', ylabel='Count'>"
            ]
          },
          "execution_count": 116,
          "metadata": {},
          "output_type": "execute_result"
        },
        {
          "data": {
            "image/png": "[encoded data removed]",
            "text/plain": [
              "<Figure size 640x480 with 1 Axes>"
            ]
          },
          "metadata": {},
          "output_type": "display_data"
        }
      ],
      "source": [
        "sns.histplot(df_copy['travel_day_of_week'])"
      ]
    },
    {
      "cell_type": "code",
      "execution_count": 117,
      "metadata": {
        "colab": {
          "base_uri": "https://localhost:8080/",
          "height": 467
        },
        "id": "MHZVTcaoEHmq",
        "outputId": "f4c5213a-528d-4b6f-e174-84be6a7ac5b9"
      },
      "outputs": [
        {
          "data": {
            "text/plain": [
              "<Axes: xlabel='travel_day_of_week', ylabel='number_of_ticket'>"
            ]
          },
          "execution_count": 117,
          "metadata": {},
          "output_type": "execute_result"
        },
        {
          "data": {
            "image/png": "[encoded data removed]",
            "text/plain": [
              "<Figure size 640x480 with 1 Axes>"
            ]
          },
          "metadata": {},
          "output_type": "display_data"
        }
      ],
      "source": [
        "sns.scatterplot(data=df_copy, x='travel_day_of_week',y='number_of_ticket')"
      ]
    },
    {
      "cell_type": "code",
      "execution_count": 118,
      "metadata": {
        "colab": {
          "base_uri": "https://localhost:8080/",
          "height": 467
        },
        "id": "WmtQY3nnDw1-",
        "outputId": "34c9e4bb-4656-4361-8d9c-d0c959b56dbb"
      },
      "outputs": [
        {
          "data": {
            "text/plain": [
              "<Axes: xlabel='travel_day_of_month', ylabel='Count'>"
            ]
          },
          "execution_count": 118,
          "metadata": {},
          "output_type": "execute_result"
        },
        {
          "data": {
            "image/png": "[encoded data removed]",
            "text/plain": [
              "<Figure size 640x480 with 1 Axes>"
            ]
          },
          "metadata": {},
          "output_type": "display_data"
        }
      ],
      "source": [
        "sns.histplot(df_copy['travel_day_of_month'])"
      ]
    },
    {
      "cell_type": "code",
      "execution_count": 119,
      "metadata": {
        "colab": {
          "base_uri": "https://localhost:8080/",
          "height": 467
        },
        "id": "rUY4ioaFCbZE",
        "outputId": "417fcd00-bc8c-4d6c-c975-bb0c34d39c8a"
      },
      "outputs": [
        {
          "data": {
            "text/plain": [
              "<Axes: xlabel='travel_day_of_month', ylabel='number_of_ticket'>"
            ]
          },
          "execution_count": 119,
          "metadata": {},
          "output_type": "execute_result"
        },
        {
          "data": {
            "image/png": "[encoded data removed]",
            "text/plain": [
              "<Figure size 640x480 with 1 Axes>"
            ]
          },
          "metadata": {},
          "output_type": "display_data"
        }
      ],
      "source": [
        "sns.scatterplot(data=df_copy, x='travel_day_of_month',y='number_of_ticket',cmap='viridis')"
      ]
    },
    {
      "cell_type": "code",
      "execution_count": 120,
      "metadata": {
        "colab": {
          "base_uri": "https://localhost:8080/",
          "height": 467
        },
        "id": "BdjVLR5aD5B-",
        "outputId": "df6c5069-b3c0-4d9d-aaad-5a4f5d835078"
      },
      "outputs": [
        {
          "data": {
            "text/plain": [
              "<Axes: xlabel='travel_month', ylabel='Count'>"
            ]
          },
          "execution_count": 120,
          "metadata": {},
          "output_type": "execute_result"
        },
        {
          "data": {
            "image/png": "[encoded data removed]",
            "text/plain": [
              "<Figure size 640x480 with 1 Axes>"
            ]
          },
          "metadata": {},
          "output_type": "display_data"
        }
      ],
      "source": [
        "sns.histplot(df_copy['travel_month'],bins=12)"
      ]
    },
    {
      "cell_type": "code",
      "execution_count": 121,
      "metadata": {
        "colab": {
          "base_uri": "https://localhost:8080/",
          "height": 467
        },
        "id": "-bJKInkODFKN",
        "outputId": "b6aed5d4-176e-46a6-89ed-4371f5b99e28"
      },
      "outputs": [
        {
          "data": {
            "text/plain": [
              "<Axes: xlabel='travel_hour', ylabel='number_of_ticket'>"
            ]
          },
          "execution_count": 121,
          "metadata": {},
          "output_type": "execute_result"
        },
        {
          "data": {
            "image/png": "[encoded data removed]",
            "text/plain": [
              "<Figure size 640x480 with 1 Axes>"
            ]
          },
          "metadata": {},
          "output_type": "display_data"
        }
      ],
      "source": [
        "sns.scatterplot(data=df_copy, x='travel_hour',y='number_of_ticket',cmap='viridis')"
      ]
    },
    {
      "cell_type": "code",
      "execution_count": 122,
      "metadata": {
        "colab": {
          "base_uri": "https://localhost:8080/",
          "height": 467
        },
        "id": "hhlW81Q3VQeG",
        "outputId": "dfce0aa6-2763-4b11-e650-e8153418db9d"
      },
      "outputs": [
        {
          "data": {
            "text/plain": [
              "<Axes: xlabel='time_period_of_day', ylabel='number_of_ticket'>"
            ]
          },
          "execution_count": 122,
          "metadata": {},
          "output_type": "execute_result"
        },
        {
          "data": {
            "image/png": "[encoded data removed]",
            "text/plain": [
              "<Figure size 640x480 with 1 Axes>"
            ]
          },
          "metadata": {},
          "output_type": "display_data"
        }
      ],
      "source": [
        "sns.barplot(data=df_copy, x='time_period_of_day',y='number_of_ticket')"
      ]
    },
    {
      "cell_type": "code",
      "execution_count": 123,
      "metadata": {
        "colab": {
          "base_uri": "https://localhost:8080/",
          "height": 713
        },
        "id": "izgqudIqPzwK",
        "outputId": "95db4d1c-66ab-4625-f8dc-b5372fbd3f52"
      },
      "outputs": [
        {
          "data": {
            "text/plain": [
              "<Axes: xlabel='travel_day_of_year', ylabel='number_of_ticket'>"
            ]
          },
          "execution_count": 123,
          "metadata": {},
          "output_type": "execute_result"
        },
        {
          "data": {
            "image/png": "[encoded data removed]",
            "text/plain": [
              "<Figure size 1000x800 with 1 Axes>"
            ]
          },
          "metadata": {},
          "output_type": "display_data"
        }
      ],
      "source": [
        "plt.figure(figsize = (10,8))\n",
        "sns.scatterplot(data=df_copy, x='travel_day_of_year',y='number_of_ticket',cmap='viridis')"
      ]
    },
    {
      "cell_type": "code",
      "execution_count": 124,
      "metadata": {
        "colab": {
          "base_uri": "https://localhost:8080/",
          "height": 179
        },
        "id": "zAW_CbF0R1Aj",
        "outputId": "716cc1ec-1cb5-4eea-f149-7d3771927763"
      },
      "outputs": [
        {
          "data": {
            "text/html": [
              "<div>\n",
              "<style scoped>\n",
              "    .dataframe tbody tr th:only-of-type {\n",
              "        vertical-align: middle;\n",
              "    }\n",
              "\n",
              "    .dataframe tbody tr th {\n",
              "        vertical-align: top;\n",
              "    }\n",
              "\n",
              "    .dataframe thead th {\n",
              "        text-align: right;\n",
              "    }\n",
              "</style>\n",
              "<table border=\"1\" class=\"dataframe\">\n",
              "  <thead>\n",
              "    <tr style=\"text-align: right;\">\n",
              "      <th></th>\n",
              "      <th>ride_id</th>\n",
              "      <th>travel_date</th>\n",
              "      <th>travel_time</th>\n",
              "      <th>travel_from</th>\n",
              "      <th>car_type</th>\n",
              "      <th>max_capacity</th>\n",
              "      <th>number_of_ticket</th>\n",
              "      <th>date_time</th>\n",
              "      <th>travel_month</th>\n",
              "      <th>travel_year</th>\n",
              "      <th>travel_day_of_month</th>\n",
              "      <th>travel_day_of_year</th>\n",
              "      <th>travel_day_of_week</th>\n",
              "      <th>travel_hour</th>\n",
              "      <th>quarter</th>\n",
              "      <th>is_weekend</th>\n",
              "      <th>time_period_of_day</th>\n",
              "    </tr>\n",
              "  </thead>\n",
              "  <tbody>\n",
              "    <tr>\n",
              "      <th>0</th>\n",
              "      <td>1442</td>\n",
              "      <td>2017-10-17</td>\n",
              "      <td>7:15</td>\n",
              "      <td>Lajpat Nagar</td>\n",
              "      <td>Bus</td>\n",
              "      <td>49</td>\n",
              "      <td>8</td>\n",
              "      <td>2017-10-17 07:15:00</td>\n",
              "      <td>10</td>\n",
              "      <td>2017</td>\n",
              "      <td>17</td>\n",
              "      <td>290</td>\n",
              "      <td>1</td>\n",
              "      <td>7</td>\n",
              "      <td>4</td>\n",
              "      <td>0</td>\n",
              "      <td>mor</td>\n",
              "    </tr>\n",
              "  </tbody>\n",
              "</table>\n",
              "</div>"
            ],
            "text/plain": [
              "   ride_id travel_date travel_time   travel_from car_type  max_capacity  \\\n",
              "0     1442  2017-10-17        7:15  Lajpat Nagar      Bus            49   \n",
              "\n",
              "   number_of_ticket           date_time  travel_month  travel_year  \\\n",
              "0                 8 2017-10-17 07:15:00            10         2017   \n",
              "\n",
              "   travel_day_of_month  travel_day_of_year  travel_day_of_week  travel_hour  \\\n",
              "0                   17                 290                   1            7   \n",
              "\n",
              "   quarter  is_weekend time_period_of_day  \n",
              "0        4           0                mor  "
            ]
          },
          "execution_count": 124,
          "metadata": {},
          "output_type": "execute_result"
        }
      ],
      "source": [
        "df_copy.head(1)"
      ]
    },
    {
      "cell_type": "code",
      "execution_count": 125,
      "metadata": {
        "colab": {
          "base_uri": "https://localhost:8080/",
          "height": 473
        },
        "id": "bTd5TLJRoXF8",
        "outputId": "394adc61-250e-4a9a-adc4-718a3aaa1d4d"
      },
      "outputs": [
        {
          "data": {
            "text/plain": [
              "Text(0.5, 1.0, 'Number of tickets for each day of the month')"
            ]
          },
          "execution_count": 125,
          "metadata": {},
          "output_type": "execute_result"
        },
        {
          "data": {
            "image/png": "[encoded data removed]",
            "text/plain": [
              "<Figure size 640x480 with 1 Axes>"
            ]
          },
          "metadata": {},
          "output_type": "display_data"
        }
      ],
      "source": [
        "df_copy['travel_day_of_month'].value_counts().plot(kind='bar')\n",
        "plt.title('Number of tickets for each day of the month')"
      ]
    },
    {
      "cell_type": "code",
      "execution_count": 479,
      "metadata": {
        "colab": {
          "base_uri": "https://localhost:8080/",
          "height": 483
        },
        "id": "600-09YUrKng",
        "outputId": "9c559bcd-f5c3-4558-d815-4ab562c0f092"
      },
      "outputs": [
        {
          "name": "stdout",
          "output_type": "stream",
          "text": [
            "{'mor': 392535, 'evn': 40011, 'em': 36217, 'nght': 4522}\n"
          ]
        },
        {
          "data": {
            "text/plain": [
              "<Axes: xlabel='time_period_of_day'>"
            ]
          },
          "execution_count": 479,
          "metadata": {},
          "output_type": "execute_result"
        },
        {
          "data": {
            "image/png": "[encoded data removed]",
            "text/plain": [
              "<Figure size 640x480 with 1 Axes>"
            ]
          },
          "metadata": {},
          "output_type": "display_data"
        }
      ],
      "source": [
        "print(dict(df_copy.time_period_of_day.value_counts()))\n",
        "\n",
        "df_copy['time_period_of_day'].value_counts().plot(kind='bar')"
      ]
    },
    {
      "cell_type": "code",
      "execution_count": 126,
      "metadata": {
        "id": "sM3d8Ni3rsIA"
      },
      "outputs": [],
      "source": [
        "period_dict = dict(df_copy.time_period_of_day.value_counts())\n",
        "df_copy['travel_hour_wise_weights'] = np.log1p(df_copy.time_period_of_day.map(period_dict))\n",
        "\n",
        "# Creating a seperate column for giving day of a year wise weights for the hours column\n",
        "day_of_year_dict = dict(df_copy.travel_day_of_year.value_counts())\n",
        "df_copy['travel_day_of_year_wise_weights'] = np.log1p(df_copy.travel_day_of_year.map(day_of_year_dict))\n",
        "\n",
        "# Giving weights to the each days of the month based on the frequency of ticket bookings\n",
        "day_of_month_wise_weights_dict = {2:1, 12:1, 3:1, 4:2, 1:3, 13:3, 14:3, 16:3, 28:3, 19:3, 18:3, 15:3, 17:3, 20:3, 22:4, 21:4, 27:4, 29:4, 23:4, 24:4, 26:4, 30:4, 25:4, 31:4}\n",
        "df_copy['travel_day_of_month_wise_weights'] = df_copy.travel_day_of_month.replace(day_of_month_wise_weights_dict)\n",
        "\n",
        "# Creating a column for giving weights to the each months of a year based on the frequency of ticket bookings\n",
        "travel_month_wise_weights_dict = {12: 1,\n",
        " 2: 1,\n",
        " 1: 1,\n",
        " 3: 1,\n",
        " 4: 1,\n",
        " 11: 2,\n",
        " 9: 3,\n",
        " 7: 3,\n",
        " 8: 3,\n",
        " 10: 3,\n",
        " 6: 3,\n",
        " 5: 3}\n",
        "df_copy['travel_month_wise_weights'] = df_copy.travel_month.replace(travel_month_wise_weights_dict)"
      ]
    },
    {
      "cell_type": "code",
      "execution_count": 127,
      "metadata": {
        "colab": {
          "base_uri": "https://localhost:8080/",
          "height": 341
        },
        "id": "RQdKU8GAuW-S",
        "outputId": "d0056f5e-96fe-4c89-87b7-735224ad277f"
      },
      "outputs": [
        {
          "data": {
            "text/html": [
              "<div>\n",
              "<style scoped>\n",
              "    .dataframe tbody tr th:only-of-type {\n",
              "        vertical-align: middle;\n",
              "    }\n",
              "\n",
              "    .dataframe tbody tr th {\n",
              "        vertical-align: top;\n",
              "    }\n",
              "\n",
              "    .dataframe thead th {\n",
              "        text-align: right;\n",
              "    }\n",
              "</style>\n",
              "<table border=\"1\" class=\"dataframe\">\n",
              "  <thead>\n",
              "    <tr style=\"text-align: right;\">\n",
              "      <th></th>\n",
              "      <th>ride_id</th>\n",
              "      <th>travel_date</th>\n",
              "      <th>travel_time</th>\n",
              "      <th>travel_from</th>\n",
              "      <th>car_type</th>\n",
              "      <th>max_capacity</th>\n",
              "      <th>number_of_ticket</th>\n",
              "      <th>date_time</th>\n",
              "      <th>travel_month</th>\n",
              "      <th>travel_year</th>\n",
              "      <th>...</th>\n",
              "      <th>travel_day_of_year</th>\n",
              "      <th>travel_day_of_week</th>\n",
              "      <th>travel_hour</th>\n",
              "      <th>quarter</th>\n",
              "      <th>is_weekend</th>\n",
              "      <th>time_period_of_day</th>\n",
              "      <th>travel_hour_wise_weights</th>\n",
              "      <th>travel_day_of_year_wise_weights</th>\n",
              "      <th>travel_day_of_month_wise_weights</th>\n",
              "      <th>travel_month_wise_weights</th>\n",
              "    </tr>\n",
              "  </thead>\n",
              "  <tbody>\n",
              "    <tr>\n",
              "      <th>0</th>\n",
              "      <td>1442</td>\n",
              "      <td>2017-10-17</td>\n",
              "      <td>7:15</td>\n",
              "      <td>Lajpat Nagar</td>\n",
              "      <td>Bus</td>\n",
              "      <td>49</td>\n",
              "      <td>8</td>\n",
              "      <td>2017-10-17 07:15:00</td>\n",
              "      <td>10</td>\n",
              "      <td>2017</td>\n",
              "      <td>...</td>\n",
              "      <td>290</td>\n",
              "      <td>1</td>\n",
              "      <td>7</td>\n",
              "      <td>4</td>\n",
              "      <td>0</td>\n",
              "      <td>mor</td>\n",
              "      <td>8.512382</td>\n",
              "      <td>0.693147</td>\n",
              "      <td>3</td>\n",
              "      <td>3</td>\n",
              "    </tr>\n",
              "    <tr>\n",
              "      <th>1</th>\n",
              "      <td>5437</td>\n",
              "      <td>2017-11-19</td>\n",
              "      <td>7:12</td>\n",
              "      <td>Nehru Place</td>\n",
              "      <td>Bus</td>\n",
              "      <td>49</td>\n",
              "      <td>9</td>\n",
              "      <td>2017-11-19 07:12:00</td>\n",
              "      <td>11</td>\n",
              "      <td>2017</td>\n",
              "      <td>...</td>\n",
              "      <td>323</td>\n",
              "      <td>6</td>\n",
              "      <td>7</td>\n",
              "      <td>4</td>\n",
              "      <td>1</td>\n",
              "      <td>mor</td>\n",
              "      <td>8.512382</td>\n",
              "      <td>0.693147</td>\n",
              "      <td>3</td>\n",
              "      <td>2</td>\n",
              "    </tr>\n",
              "    <tr>\n",
              "      <th>2</th>\n",
              "      <td>5710</td>\n",
              "      <td>2017-11-26</td>\n",
              "      <td>7:05</td>\n",
              "      <td>Janakpuri</td>\n",
              "      <td>Bus</td>\n",
              "      <td>49</td>\n",
              "      <td>10</td>\n",
              "      <td>2017-11-26 07:05:00</td>\n",
              "      <td>11</td>\n",
              "      <td>2017</td>\n",
              "      <td>...</td>\n",
              "      <td>330</td>\n",
              "      <td>6</td>\n",
              "      <td>7</td>\n",
              "      <td>4</td>\n",
              "      <td>1</td>\n",
              "      <td>mor</td>\n",
              "      <td>8.512382</td>\n",
              "      <td>0.693147</td>\n",
              "      <td>4</td>\n",
              "      <td>2</td>\n",
              "    </tr>\n",
              "  </tbody>\n",
              "</table>\n",
              "<p>3 rows × 21 columns</p>\n",
              "</div>"
            ],
            "text/plain": [
              "   ride_id travel_date travel_time   travel_from car_type  max_capacity  \\\n",
              "0     1442  2017-10-17        7:15  Lajpat Nagar      Bus            49   \n",
              "1     5437  2017-11-19        7:12   Nehru Place      Bus            49   \n",
              "2     5710  2017-11-26        7:05     Janakpuri      Bus            49   \n",
              "\n",
              "   number_of_ticket           date_time  travel_month  travel_year  ...  \\\n",
              "0                 8 2017-10-17 07:15:00            10         2017  ...   \n",
              "1                 9 2017-11-19 07:12:00            11         2017  ...   \n",
              "2                10 2017-11-26 07:05:00            11         2017  ...   \n",
              "\n",
              "   travel_day_of_year  travel_day_of_week  travel_hour  quarter  is_weekend  \\\n",
              "0                 290                   1            7        4           0   \n",
              "1                 323                   6            7        4           1   \n",
              "2                 330                   6            7        4           1   \n",
              "\n",
              "   time_period_of_day travel_hour_wise_weights  \\\n",
              "0                 mor                 8.512382   \n",
              "1                 mor                 8.512382   \n",
              "2                 mor                 8.512382   \n",
              "\n",
              "   travel_day_of_year_wise_weights  travel_day_of_month_wise_weights  \\\n",
              "0                         0.693147                                 3   \n",
              "1                         0.693147                                 3   \n",
              "2                         0.693147                                 4   \n",
              "\n",
              "   travel_month_wise_weights  \n",
              "0                          3  \n",
              "1                          2  \n",
              "2                          2  \n",
              "\n",
              "[3 rows x 21 columns]"
            ]
          },
          "execution_count": 127,
          "metadata": {},
          "output_type": "execute_result"
        }
      ],
      "source": [
        "df_copy.head(3)"
      ]
    },
    {
      "cell_type": "code",
      "execution_count": 128,
      "metadata": {
        "id": "7oRS0LA_uW7n"
      },
      "outputs": [],
      "source": [
        "def find_difference_bw_bus(data):\n",
        "\n",
        "  data.sort_values([\"travel_from\",\"date_time\"],inplace=True,ascending=True)\n",
        "  data[\"Time_gap_btw_0_1_next_bus\"]=(data[\"date_time\"]-data.groupby([\"travel_from\"]).date_time.shift(-1)).dt.total_seconds()/3600\n",
        "  data[\"Time_gap_btw_0_1_previous_bus\"]=(data[\"date_time\"]-data.groupby([\"travel_from\"]).date_time.shift(1)).dt.total_seconds()/3600\n",
        "  data[\"Time_gap_btw_0_2_next_bus\"]=(data[\"date_time\"]-data.groupby([\"travel_from\"]).date_time.shift(-2)).dt.total_seconds()/3600\n",
        "  data[\"Time_gap_btw_0_2_previous_bus\"]=(data[\"date_time\"]-data.groupby([\"travel_from\"]).date_time.shift(2)).dt.total_seconds()/3600\n",
        "  data[\"Time_gap_btw_0_3_next_bus\"]=(data[\"date_time\"]-data.groupby([\"travel_from\"]).date_time.shift(-3)).dt.total_seconds()/3600\n",
        "  data[\"Time_gap_btw_0_3_previous_bus\"]=(data[\"date_time\"]-data.groupby([\"travel_from\"]).date_time.shift(3)).dt.total_seconds()/3600\n",
        "  data[\"Time_gap_btw_next_previous_bus\"]=(data.groupby([\"travel_from\"]).date_time.shift(-1)-data.groupby([\"travel_from\"]).date_time.shift(1)).dt.total_seconds()/3600\n",
        "  cols=[\"Time_gap_btw_0_1_next_bus\", \"Time_gap_btw_0_1_previous_bus\", \"Time_gap_btw_0_2_next_bus\",\"Time_gap_btw_0_2_previous_bus\",\n",
        "      \"Time_gap_btw_0_3_next_bus\", \"Time_gap_btw_0_3_previous_bus\",\n",
        "      \"Time_gap_btw_next_previous_bus\"]\n",
        "  data[cols]=data.groupby([\"travel_from\"])[cols].fillna(method=\"ffill\")\n",
        "  data[cols]=data.groupby([\"travel_from\"])[cols].fillna(method=\"backfill\")\n",
        "\n",
        "\n",
        "  return data"
      ]
    },
    {
      "cell_type": "code",
      "execution_count": 129,
      "metadata": {
        "id": "Zb5XnFJy0Pl5"
      },
      "outputs": [],
      "source": [
        "transport_data_new = find_difference_bw_bus(df_copy)"
      ]
    },
    {
      "cell_type": "code",
      "execution_count": 130,
      "metadata": {
        "colab": {
          "base_uri": "https://localhost:8080/"
        },
        "id": "901aCdTc0alC",
        "outputId": "14b2a2f4-944e-4f66-ab0f-a3dd2d6de52e"
      },
      "outputs": [
        {
          "data": {
            "text/plain": [
              "Index(['ride_id', 'travel_date', 'travel_time', 'travel_from', 'car_type',\n",
              "       'max_capacity', 'number_of_ticket', 'date_time', 'travel_month',\n",
              "       'travel_year', 'travel_day_of_month', 'travel_day_of_year',\n",
              "       'travel_day_of_week', 'travel_hour', 'quarter', 'is_weekend',\n",
              "       'time_period_of_day', 'travel_hour_wise_weights',\n",
              "       'travel_day_of_year_wise_weights', 'travel_day_of_month_wise_weights',\n",
              "       'travel_month_wise_weights', 'Time_gap_btw_0_1_next_bus',\n",
              "       'Time_gap_btw_0_1_previous_bus', 'Time_gap_btw_0_2_next_bus',\n",
              "       'Time_gap_btw_0_2_previous_bus', 'Time_gap_btw_0_3_next_bus',\n",
              "       'Time_gap_btw_0_3_previous_bus', 'Time_gap_btw_next_previous_bus'],\n",
              "      dtype='object')"
            ]
          },
          "execution_count": 130,
          "metadata": {},
          "output_type": "execute_result"
        }
      ],
      "source": [
        "transport_data_new.columns"
      ]
    },
    {
      "cell_type": "code",
      "execution_count": 131,
      "metadata": {
        "colab": {
          "base_uri": "https://localhost:8080/"
        },
        "id": "eac9dKSpCoFF",
        "outputId": "949e8167-602c-4aa8-a731-dc30bb2c5b0b"
      },
      "outputs": [
        {
          "data": {
            "text/plain": [
              "ride_id                             0\n",
              "travel_date                         0\n",
              "travel_time                         0\n",
              "travel_from                         0\n",
              "car_type                            0\n",
              "max_capacity                        0\n",
              "number_of_ticket                    0\n",
              "date_time                           0\n",
              "travel_month                        0\n",
              "travel_year                         0\n",
              "travel_day_of_month                 0\n",
              "travel_day_of_year                  0\n",
              "travel_day_of_week                  0\n",
              "travel_hour                         0\n",
              "quarter                             0\n",
              "is_weekend                          0\n",
              "time_period_of_day                  0\n",
              "travel_hour_wise_weights            0\n",
              "travel_day_of_year_wise_weights     0\n",
              "travel_day_of_month_wise_weights    0\n",
              "travel_month_wise_weights           0\n",
              "Time_gap_btw_0_1_next_bus           0\n",
              "Time_gap_btw_0_1_previous_bus       0\n",
              "Time_gap_btw_0_2_next_bus           0\n",
              "Time_gap_btw_0_2_previous_bus       0\n",
              "Time_gap_btw_0_3_next_bus           0\n",
              "Time_gap_btw_0_3_previous_bus       0\n",
              "Time_gap_btw_next_previous_bus      0\n",
              "dtype: int64"
            ]
          },
          "execution_count": 131,
          "metadata": {},
          "output_type": "execute_result"
        }
      ],
      "source": [
        "transport_data_new.isnull().sum()"
      ]
    },
    {
      "cell_type": "code",
      "execution_count": 132,
      "metadata": {
        "id": "cESBW3KhC1w7"
      },
      "outputs": [],
      "source": [
        "transport_data_new.dropna(inplace=True)"
      ]
    },
    {
      "cell_type": "code",
      "execution_count": 133,
      "metadata": {
        "id": "wLYKgjyjC-LY"
      },
      "outputs": [],
      "source": [
        "from datetime import datetime\n",
        "from datetime import timedelta"
      ]
    },
    {
      "cell_type": "code",
      "execution_count": 134,
      "metadata": {
        "colab": {
          "base_uri": "https://localhost:8080/"
        },
        "id": "AcQN9gOWDZ-4",
        "outputId": "f0cfa826-e2cd-4a40-df59-434309be653a"
      },
      "outputs": [
        {
          "data": {
            "text/plain": [
              "array(['Chandni Chowk', 'Connaught Place', 'Dwarka', 'Hauz Khas',\n",
              "       'India Gate', 'Janakpuri', 'Karol Bagh', 'Lajpat Nagar',\n",
              "       'Nehru Place', 'New Delhi Railway Station', 'Saket', 'Vasant Kunj'],\n",
              "      dtype=object)"
            ]
          },
          "execution_count": 134,
          "metadata": {},
          "output_type": "execute_result"
        }
      ],
      "source": [
        "transport_data_new['travel_from'].unique()"
      ]
    },
    {
      "cell_type": "code",
      "execution_count": 135,
      "metadata": {
        "id": "gkBLGSvGDR-R"
      },
      "outputs": [],
      "source": [
        "# distance_from_nairobi = {'Migori': 370 , 'Keroka': 280, 'Homa Bay':360, 'Kisii':305.1, 'Keumbu':295, 'Rongo':332,\n",
        "# 'Kijauri':271, 'Oyugis':330.6, 'Awendo':351, 'Sirare':392, 'Nyachenge':326, 'Kehancha': 387.7,\n",
        "# 'Kendu Bay':347, 'Sori':399, 'Rodi':348, 'Mbita':401, 'Ndhiwa': 371}\n",
        "\n",
        "# Making a dictionary containing distances of originating places from nairobi\n",
        "distance_from_nairobi = {'Awendo':351, 'Homa Bay':360, 'Kehancha': 387.7, 'Keroka': 280, 'Keumbu':295, 'Kijauri':271,\n",
        "                         'Kisii':305.1, 'Mbita':401, 'Migori': 370, 'Ndhiwa': 371, 'Nyachenge':326, 'Rodi':348, 'Rongo':332,\n",
        "                         'Sirare':392, 'Sori':399}\n",
        "\n",
        "transport_data_new['distance_to_destination'] = transport_data_new['travel_from'].map(distance_from_nairobi)"
      ]
    },
    {
      "cell_type": "code",
      "execution_count": 136,
      "metadata": {
        "colab": {
          "base_uri": "https://localhost:8080/"
        },
        "id": "U2-k3m0bFP87",
        "outputId": "ab57b743-b455-4147-b2e1-c3d37a719d68"
      },
      "outputs": [
        {
          "data": {
            "text/plain": [
              "{'Chandni Chowk': 8.09,\n",
              " 'Connaught Place': 7.84,\n",
              " 'Dwarka': 8.01,\n",
              " 'Hauz Khas': 8.05,\n",
              " 'India Gate': 7.92,\n",
              " 'Janakpuri': 7.9,\n",
              " 'Karol Bagh': 7.82,\n",
              " 'Lajpat Nagar': 7.97,\n",
              " 'Nehru Place': 7.86,\n",
              " 'New Delhi Railway Station': 7.9,\n",
              " 'Saket': 7.98,\n",
              " 'Vasant Kunj': 8.05}"
            ]
          },
          "execution_count": 136,
          "metadata": {},
          "output_type": "execute_result"
        }
      ],
      "source": [
        "dict_time = dict(transport_data_new.groupby('travel_from')['travel_hour'].mean().round(2))\n",
        "dict_time"
      ]
    },
    {
      "cell_type": "code",
      "execution_count": 137,
      "metadata": {
        "colab": {
          "base_uri": "https://localhost:8080/"
        },
        "id": "4y3MStUkGvgl",
        "outputId": "9c51d491-241b-44da-883e-42272ed30518"
      },
      "outputs": [
        {
          "data": {
            "text/plain": [
              "travel_from\n",
              "Chandni Chowk                8.092953\n",
              "Connaught Place              8.160820\n",
              "Dwarka                       8.036501\n",
              "Hauz Khas                    8.106137\n",
              "India Gate                   8.095429\n",
              "Janakpuri                    8.139519\n",
              "Karol Bagh                   8.100354\n",
              "Lajpat Nagar                 8.145392\n",
              "Nehru Place                  8.093667\n",
              "New Delhi Railway Station    8.103232\n",
              "Saket                        8.090027\n",
              "Vasant Kunj                  8.055873\n",
              "Name: travel_hour_wise_weights, dtype: float64"
            ]
          },
          "execution_count": 137,
          "metadata": {},
          "output_type": "execute_result"
        }
      ],
      "source": [
        "transport_data_new.groupby('travel_from')['travel_hour_wise_weights'].mean()"
      ]
    },
    {
      "cell_type": "code",
      "execution_count": 138,
      "metadata": {
        "id": "EiJ42TqRGTkL"
      },
      "outputs": [],
      "source": [
        "transport_data_new['time_to_nairobi'] = transport_data_new['travel_hour']"
      ]
    },
    {
      "cell_type": "code",
      "execution_count": 139,
      "metadata": {
        "id": "xivQTM8bRwYx"
      },
      "outputs": [],
      "source": [
        "from sklearn import preprocessing\n",
        "final_df = pd.get_dummies(df_copy, columns = ['travel_from','travel_day_of_month_wise_weights','travel_month_wise_weights'])"
      ]
    },
    {
      "cell_type": "code",
      "execution_count": 140,
      "metadata": {
        "colab": {
          "base_uri": "https://localhost:8080/",
          "height": 473
        },
        "id": "fBuDwB3zSuG1",
        "outputId": "2fa75217-8f23-4d52-e9ba-457cfa611302"
      },
      "outputs": [
        {
          "data": {
            "text/html": [
              "<div>\n",
              "<style scoped>\n",
              "    .dataframe tbody tr th:only-of-type {\n",
              "        vertical-align: middle;\n",
              "    }\n",
              "\n",
              "    .dataframe tbody tr th {\n",
              "        vertical-align: top;\n",
              "    }\n",
              "\n",
              "    .dataframe thead th {\n",
              "        text-align: right;\n",
              "    }\n",
              "</style>\n",
              "<table border=\"1\" class=\"dataframe\">\n",
              "  <thead>\n",
              "    <tr style=\"text-align: right;\">\n",
              "      <th></th>\n",
              "      <th>ride_id</th>\n",
              "      <th>travel_date</th>\n",
              "      <th>travel_time</th>\n",
              "      <th>car_type</th>\n",
              "      <th>max_capacity</th>\n",
              "      <th>number_of_ticket</th>\n",
              "      <th>date_time</th>\n",
              "      <th>travel_month</th>\n",
              "      <th>travel_year</th>\n",
              "      <th>travel_day_of_month</th>\n",
              "      <th>...</th>\n",
              "      <th>travel_from_New Delhi Railway Station</th>\n",
              "      <th>travel_from_Saket</th>\n",
              "      <th>travel_from_Vasant Kunj</th>\n",
              "      <th>travel_day_of_month_wise_weights_1</th>\n",
              "      <th>travel_day_of_month_wise_weights_2</th>\n",
              "      <th>travel_day_of_month_wise_weights_3</th>\n",
              "      <th>travel_day_of_month_wise_weights_4</th>\n",
              "      <th>travel_month_wise_weights_1</th>\n",
              "      <th>travel_month_wise_weights_2</th>\n",
              "      <th>travel_month_wise_weights_3</th>\n",
              "    </tr>\n",
              "  </thead>\n",
              "  <tbody>\n",
              "    <tr>\n",
              "      <th>320</th>\n",
              "      <td>6398</td>\n",
              "      <td>2017-01-12</td>\n",
              "      <td>5:30</td>\n",
              "      <td>0</td>\n",
              "      <td>11</td>\n",
              "      <td>105</td>\n",
              "      <td>2017-01-12 05:30:00</td>\n",
              "      <td>1</td>\n",
              "      <td>2017</td>\n",
              "      <td>12</td>\n",
              "      <td>...</td>\n",
              "      <td>False</td>\n",
              "      <td>False</td>\n",
              "      <td>False</td>\n",
              "      <td>True</td>\n",
              "      <td>False</td>\n",
              "      <td>False</td>\n",
              "      <td>False</td>\n",
              "      <td>True</td>\n",
              "      <td>False</td>\n",
              "      <td>False</td>\n",
              "    </tr>\n",
              "    <tr>\n",
              "      <th>4961</th>\n",
              "      <td>12293</td>\n",
              "      <td>2017-01-12</td>\n",
              "      <td>7:07</td>\n",
              "      <td>1</td>\n",
              "      <td>49</td>\n",
              "      <td>8</td>\n",
              "      <td>2017-01-12 07:07:00</td>\n",
              "      <td>1</td>\n",
              "      <td>2017</td>\n",
              "      <td>12</td>\n",
              "      <td>...</td>\n",
              "      <td>False</td>\n",
              "      <td>False</td>\n",
              "      <td>False</td>\n",
              "      <td>True</td>\n",
              "      <td>False</td>\n",
              "      <td>False</td>\n",
              "      <td>False</td>\n",
              "      <td>True</td>\n",
              "      <td>False</td>\n",
              "      <td>False</td>\n",
              "    </tr>\n",
              "    <tr>\n",
              "      <th>4912</th>\n",
              "      <td>12288</td>\n",
              "      <td>2017-01-12</td>\n",
              "      <td>8:00</td>\n",
              "      <td>0</td>\n",
              "      <td>11</td>\n",
              "      <td>54</td>\n",
              "      <td>2017-01-12 08:00:00</td>\n",
              "      <td>1</td>\n",
              "      <td>2017</td>\n",
              "      <td>12</td>\n",
              "      <td>...</td>\n",
              "      <td>False</td>\n",
              "      <td>False</td>\n",
              "      <td>False</td>\n",
              "      <td>True</td>\n",
              "      <td>False</td>\n",
              "      <td>False</td>\n",
              "      <td>False</td>\n",
              "      <td>True</td>\n",
              "      <td>False</td>\n",
              "      <td>False</td>\n",
              "    </tr>\n",
              "    <tr>\n",
              "      <th>4939</th>\n",
              "      <td>12321</td>\n",
              "      <td>2017-01-12</td>\n",
              "      <td>10:20</td>\n",
              "      <td>0</td>\n",
              "      <td>11</td>\n",
              "      <td>92</td>\n",
              "      <td>2017-01-12 10:20:00</td>\n",
              "      <td>1</td>\n",
              "      <td>2017</td>\n",
              "      <td>12</td>\n",
              "      <td>...</td>\n",
              "      <td>False</td>\n",
              "      <td>False</td>\n",
              "      <td>False</td>\n",
              "      <td>True</td>\n",
              "      <td>False</td>\n",
              "      <td>False</td>\n",
              "      <td>False</td>\n",
              "      <td>True</td>\n",
              "      <td>False</td>\n",
              "      <td>False</td>\n",
              "    </tr>\n",
              "    <tr>\n",
              "      <th>4928</th>\n",
              "      <td>12310</td>\n",
              "      <td>2017-01-12</td>\n",
              "      <td>10:40</td>\n",
              "      <td>0</td>\n",
              "      <td>11</td>\n",
              "      <td>84</td>\n",
              "      <td>2017-01-12 10:40:00</td>\n",
              "      <td>1</td>\n",
              "      <td>2017</td>\n",
              "      <td>12</td>\n",
              "      <td>...</td>\n",
              "      <td>False</td>\n",
              "      <td>False</td>\n",
              "      <td>False</td>\n",
              "      <td>True</td>\n",
              "      <td>False</td>\n",
              "      <td>False</td>\n",
              "      <td>False</td>\n",
              "      <td>True</td>\n",
              "      <td>False</td>\n",
              "      <td>False</td>\n",
              "    </tr>\n",
              "  </tbody>\n",
              "</table>\n",
              "<p>5 rows × 46 columns</p>\n",
              "</div>"
            ],
            "text/plain": [
              "      ride_id travel_date travel_time  car_type  max_capacity  \\\n",
              "320      6398  2017-01-12        5:30         0            11   \n",
              "4961    12293  2017-01-12        7:07         1            49   \n",
              "4912    12288  2017-01-12        8:00         0            11   \n",
              "4939    12321  2017-01-12       10:20         0            11   \n",
              "4928    12310  2017-01-12       10:40         0            11   \n",
              "\n",
              "      number_of_ticket           date_time  travel_month  travel_year  \\\n",
              "320                105 2017-01-12 05:30:00             1         2017   \n",
              "4961                 8 2017-01-12 07:07:00             1         2017   \n",
              "4912                54 2017-01-12 08:00:00             1         2017   \n",
              "4939                92 2017-01-12 10:20:00             1         2017   \n",
              "4928                84 2017-01-12 10:40:00             1         2017   \n",
              "\n",
              "      travel_day_of_month  ...  travel_from_New Delhi Railway Station  \\\n",
              "320                    12  ...                                  False   \n",
              "4961                   12  ...                                  False   \n",
              "4912                   12  ...                                  False   \n",
              "4939                   12  ...                                  False   \n",
              "4928                   12  ...                                  False   \n",
              "\n",
              "      travel_from_Saket  travel_from_Vasant Kunj  \\\n",
              "320               False                    False   \n",
              "4961              False                    False   \n",
              "4912              False                    False   \n",
              "4939              False                    False   \n",
              "4928              False                    False   \n",
              "\n",
              "      travel_day_of_month_wise_weights_1  travel_day_of_month_wise_weights_2  \\\n",
              "320                                 True                               False   \n",
              "4961                                True                               False   \n",
              "4912                                True                               False   \n",
              "4939                                True                               False   \n",
              "4928                                True                               False   \n",
              "\n",
              "     travel_day_of_month_wise_weights_3  travel_day_of_month_wise_weights_4  \\\n",
              "320                               False                               False   \n",
              "4961                              False                               False   \n",
              "4912                              False                               False   \n",
              "4939                              False                               False   \n",
              "4928                              False                               False   \n",
              "\n",
              "      travel_month_wise_weights_1  travel_month_wise_weights_2  \\\n",
              "320                          True                        False   \n",
              "4961                         True                        False   \n",
              "4912                         True                        False   \n",
              "4939                         True                        False   \n",
              "4928                         True                        False   \n",
              "\n",
              "      travel_month_wise_weights_3  \n",
              "320                         False  \n",
              "4961                        False  \n",
              "4912                        False  \n",
              "4939                        False  \n",
              "4928                        False  \n",
              "\n",
              "[5 rows x 46 columns]"
            ]
          },
          "execution_count": 140,
          "metadata": {},
          "output_type": "execute_result"
        }
      ],
      "source": [
        "label_encoder = {'Bus':1,'shuttle':0}\n",
        "final_df.replace(label_encoder, inplace=True)\n",
        "final_df.head()"
      ]
    },
    {
      "cell_type": "code",
      "execution_count": 141,
      "metadata": {
        "colab": {
          "base_uri": "https://localhost:8080/"
        },
        "id": "1qyVe3y4TBkc",
        "outputId": "eb2e83bb-03c8-4f04-f47e-9e4f47d33106"
      },
      "outputs": [
        {
          "data": {
            "text/plain": [
              "(6249, 38)"
            ]
          },
          "execution_count": 141,
          "metadata": {},
          "output_type": "execute_result"
        }
      ],
      "source": [
        "cols_to_drop = ['ride_id','travel_date','travel_time','max_capacity','travel_year','number_of_ticket','time_period_of_day','date_time']\n",
        "X = final_df.drop(cols_to_drop,axis=1)\n",
        "X.shape"
      ]
    },
    {
      "cell_type": "code",
      "execution_count": 142,
      "metadata": {
        "colab": {
          "base_uri": "https://localhost:8080/"
        },
        "id": "4MLiBm5GTdVP",
        "outputId": "b25017ae-d17e-4056-cd9c-a4e56bc0ce33"
      },
      "outputs": [
        {
          "data": {
            "text/plain": [
              "(6249,)"
            ]
          },
          "execution_count": 142,
          "metadata": {},
          "output_type": "execute_result"
        }
      ],
      "source": [
        "y = final_df['number_of_ticket'].values\n",
        "y.shape"
      ]
    },
    {
      "cell_type": "code",
      "execution_count": 143,
      "metadata": {
        "id": "sh4RjU9QKLsZ"
      },
      "outputs": [],
      "source": [
        "from sklearn.model_selection import train_test_split\n",
        "from sklearn.linear_model import LinearRegression\n",
        "from sklearn.linear_model import Lasso\n",
        "from sklearn.linear_model import Ridge\n",
        "from sklearn.metrics import mean_squared_error,r2_score,mean_absolute_error,mean_absolute_percentage_error\n",
        "import math"
      ]
    },
    {
      "cell_type": "code",
      "execution_count": 144,
      "metadata": {
        "id": "UwNqgGLnTkPx"
      },
      "outputs": [],
      "source": [
        "X_train, X_test, y_train, y_test = train_test_split(X, y, test_size=0.2, random_state=42)"
      ]
    },
    {
      "cell_type": "code",
      "execution_count": 145,
      "metadata": {
        "colab": {
          "base_uri": "https://localhost:8080/"
        },
        "id": "N25z34QVPQLQ",
        "outputId": "6b92e5d3-0ad3-4f56-f522-c9ed8b62adda"
      },
      "outputs": [
        {
          "data": {
            "text/plain": [
              "(4999, 38)"
            ]
          },
          "execution_count": 145,
          "metadata": {},
          "output_type": "execute_result"
        }
      ],
      "source": [
        "X_train.shape"
      ]
    },
    {
      "cell_type": "code",
      "execution_count": 146,
      "metadata": {
        "colab": {
          "base_uri": "https://localhost:8080/"
        },
        "id": "UEuSnbMwPTuK",
        "outputId": "c94c2a66-d326-4f22-bd53-f597eece1315"
      },
      "outputs": [
        {
          "data": {
            "text/plain": [
              "(4999,)"
            ]
          },
          "execution_count": 146,
          "metadata": {},
          "output_type": "execute_result"
        }
      ],
      "source": [
        "y_train.shape"
      ]
    },
    {
      "cell_type": "code",
      "execution_count": 169,
      "metadata": {
        "id": "ayPBKVqmQi5t"
      },
      "outputs": [],
      "source": [
        "#Creating function for evaluation metrics\n",
        "from sklearn.tree import DecisionTreeRegressor\n",
        "from sklearn.ensemble import RandomForestRegressor\n",
        "\n",
        "#Initials model\n",
        "models ={\n",
        "  \"DecisionTree\": DecisionTreeRegressor(random_state=42),\n",
        "  \"RandomForest\": RandomForestRegressor(random_state=42)\n",
        "}\n",
        "def evaluate_metric(actual,predicted):\n",
        "  print('MSE is {}'.format(mean_squared_error(actual, predicted)))\n",
        "  print('RMSE is {}'.format(math.sqrt(mean_squared_error(actual, predicted))))\n",
        "\n",
        "  print('R2 Score is {}'.format(r2_score(actual, predicted)))\n",
        "  # print('MAE is {}'.format(mean_absolute_error(actual, predicted)))\n",
        "  # print('MAPE is {}'.format(np.mean(np.abs((actual - predicted) / actual)) * 100))"
      ]
    },
    {
      "cell_type": "code",
      "execution_count": 150,
      "metadata": {
        "colab": {
          "base_uri": "https://localhost:8080/"
        },
        "id": "5wC1wyhkSjeF",
        "outputId": "5381bb94-fe41-4245-c270-d02902dc0a62"
      },
      "outputs": [
        {
          "name": "stdout",
          "output_type": "stream",
          "text": [
            "{'criterion': ['squared_error', 'friedman_mse', 'absolute_error'], 'max_depth': [40, 60, 80, 100, None]}\n"
          ]
        }
      ],
      "source": [
        "from sklearn.tree import DecisionTreeRegressor\n",
        "\n",
        "criterion = ['squared_error', 'friedman_mse', 'absolute_error']\n",
        "\n",
        "max_depth = [int(x) for x in np.linspace(40, 100, num = 4)]\n",
        "max_depth.append(None)\n",
        "\n",
        "grid_params_dict = {'criterion': criterion,\n",
        "               'max_depth': max_depth,\n",
        "                    }\n",
        "print(grid_params_dict)"
      ]
    },
    {
      "cell_type": "code",
      "execution_count": 151,
      "metadata": {},
      "outputs": [],
      "source": [
        "from sklearn.model_selection import GridSearchCV"
      ]
    },
    {
      "cell_type": "code",
      "execution_count": 152,
      "metadata": {
        "colab": {
          "base_uri": "https://localhost:8080/",
          "height": 134
        },
        "id": "PL8hcK34y4tc",
        "outputId": "1fdbb2f5-818c-4ff5-eb8d-a0f7f71e9791"
      },
      "outputs": [
        {
          "name": "stdout",
          "output_type": "stream",
          "text": [
            "Fitting 3 folds for each of 15 candidates, totalling 45 fits\n"
          ]
        },
        {
          "data": {
            "text/html": [
              "<style>#sk-container-id-1 {\n",
              "  /* Definition of color scheme common for light and dark mode */\n",
              "  --sklearn-color-text: black;\n",
              "  --sklearn-color-line: gray;\n",
              "  /* Definition of color scheme for unfitted estimators */\n",
              "  --sklearn-color-unfitted-level-0: #fff5e6;\n",
              "  --sklearn-color-unfitted-level-1: #f6e4d2;\n",
              "  --sklearn-color-unfitted-level-2: #ffe0b3;\n",
              "  --sklearn-color-unfitted-level-3: chocolate;\n",
              "  /* Definition of color scheme for fitted estimators */\n",
              "  --sklearn-color-fitted-level-0: #f0f8ff;\n",
              "  --sklearn-color-fitted-level-1: #d4ebff;\n",
              "  --sklearn-color-fitted-level-2: #b3dbfd;\n",
              "  --sklearn-color-fitted-level-3: cornflowerblue;\n",
              "\n",
              "  /* Specific color for light theme */\n",
              "  --sklearn-color-text-on-default-background: var(--sg-text-color, var(--theme-code-foreground, var(--jp-content-font-color1, black)));\n",
              "  --sklearn-color-background: var(--sg-background-color, var(--theme-background, var(--jp-layout-color0, white)));\n",
              "  --sklearn-color-border-box: var(--sg-text-color, var(--theme-code-foreground, var(--jp-content-font-color1, black)));\n",
              "  --sklearn-color-icon: #696969;\n",
              "\n",
              "  @media (prefers-color-scheme: dark) {\n",
              "    /* Redefinition of color scheme for dark theme */\n",
              "    --sklearn-color-text-on-default-background: var(--sg-text-color, var(--theme-code-foreground, var(--jp-content-font-color1, white)));\n",
              "    --sklearn-color-background: var(--sg-background-color, var(--theme-background, var(--jp-layout-color0, #111)));\n",
              "    --sklearn-color-border-box: var(--sg-text-color, var(--theme-code-foreground, var(--jp-content-font-color1, white)));\n",
              "    --sklearn-color-icon: #878787;\n",
              "  }\n",
              "}\n",
              "\n",
              "#sk-container-id-1 {\n",
              "  color: var(--sklearn-color-text);\n",
              "}\n",
              "\n",
              "#sk-container-id-1 pre {\n",
              "  padding: 0;\n",
              "}\n",
              "\n",
              "#sk-container-id-1 input.sk-hidden--visually {\n",
              "  border: 0;\n",
              "  clip: rect(1px 1px 1px 1px);\n",
              "  clip: rect(1px, 1px, 1px, 1px);\n",
              "  height: 1px;\n",
              "  margin: -1px;\n",
              "  overflow: hidden;\n",
              "  padding: 0;\n",
              "  position: absolute;\n",
              "  width: 1px;\n",
              "}\n",
              "\n",
              "#sk-container-id-1 div.sk-dashed-wrapped {\n",
              "  border: 1px dashed var(--sklearn-color-line);\n",
              "  margin: 0 0.4em 0.5em 0.4em;\n",
              "  box-sizing: border-box;\n",
              "  padding-bottom: 0.4em;\n",
              "  background-color: var(--sklearn-color-background);\n",
              "}\n",
              "\n",
              "#sk-container-id-1 div.sk-container {\n",
              "  /* jupyter's `normalize.less` sets `[hidden] { display: none; }`\n",
              "     but bootstrap.min.css set `[hidden] { display: none !important; }`\n",
              "     so we also need the `!important` here to be able to override the\n",
              "     default hidden behavior on the sphinx rendered scikit-learn.org.\n",
              "     See: https://github.com/scikit-learn/scikit-learn/issues/21755 */\n",
              "  display: inline-block !important;\n",
              "  position: relative;\n",
              "}\n",
              "\n",
              "#sk-container-id-1 div.sk-text-repr-fallback {\n",
              "  display: none;\n",
              "}\n",
              "\n",
              "div.sk-parallel-item,\n",
              "div.sk-serial,\n",
              "div.sk-item {\n",
              "  /* draw centered vertical line to link estimators */\n",
              "  background-image: linear-gradient(var(--sklearn-color-text-on-default-background), var(--sklearn-color-text-on-default-background));\n",
              "  background-size: 2px 100%;\n",
              "  background-repeat: no-repeat;\n",
              "  background-position: center center;\n",
              "}\n",
              "\n",
              "/* Parallel-specific style estimator block */\n",
              "\n",
              "#sk-container-id-1 div.sk-parallel-item::after {\n",
              "  content: \"\";\n",
              "  width: 100%;\n",
              "  border-bottom: 2px solid var(--sklearn-color-text-on-default-background);\n",
              "  flex-grow: 1;\n",
              "}\n",
              "\n",
              "#sk-container-id-1 div.sk-parallel {\n",
              "  display: flex;\n",
              "  align-items: stretch;\n",
              "  justify-content: center;\n",
              "  background-color: var(--sklearn-color-background);\n",
              "  position: relative;\n",
              "}\n",
              "\n",
              "#sk-container-id-1 div.sk-parallel-item {\n",
              "  display: flex;\n",
              "  flex-direction: column;\n",
              "}\n",
              "\n",
              "#sk-container-id-1 div.sk-parallel-item:first-child::after {\n",
              "  align-self: flex-end;\n",
              "  width: 50%;\n",
              "}\n",
              "\n",
              "#sk-container-id-1 div.sk-parallel-item:last-child::after {\n",
              "  align-self: flex-start;\n",
              "  width: 50%;\n",
              "}\n",
              "\n",
              "#sk-container-id-1 div.sk-parallel-item:only-child::after {\n",
              "  width: 0;\n",
              "}\n",
              "\n",
              "/* Serial-specific style estimator block */\n",
              "\n",
              "#sk-container-id-1 div.sk-serial {\n",
              "  display: flex;\n",
              "  flex-direction: column;\n",
              "  align-items: center;\n",
              "  background-color: var(--sklearn-color-background);\n",
              "  padding-right: 1em;\n",
              "  padding-left: 1em;\n",
              "}\n",
              "\n",
              "\n",
              "/* Toggleable style: style used for estimator/Pipeline/ColumnTransformer box that is\n",
              "clickable and can be expanded/collapsed.\n",
              "- Pipeline and ColumnTransformer use this feature and define the default style\n",
              "- Estimators will overwrite some part of the style using the `sk-estimator` class\n",
              "*/\n",
              "\n",
              "/* Pipeline and ColumnTransformer style (default) */\n",
              "\n",
              "#sk-container-id-1 div.sk-toggleable {\n",
              "  /* Default theme specific background. It is overwritten whether we have a\n",
              "  specific estimator or a Pipeline/ColumnTransformer */\n",
              "  background-color: var(--sklearn-color-background);\n",
              "}\n",
              "\n",
              "/* Toggleable label */\n",
              "#sk-container-id-1 label.sk-toggleable__label {\n",
              "  cursor: pointer;\n",
              "  display: block;\n",
              "  width: 100%;\n",
              "  margin-bottom: 0;\n",
              "  padding: 0.5em;\n",
              "  box-sizing: border-box;\n",
              "  text-align: center;\n",
              "}\n",
              "\n",
              "#sk-container-id-1 label.sk-toggleable__label-arrow:before {\n",
              "  /* Arrow on the left of the label */\n",
              "  content: \"▸\";\n",
              "  float: left;\n",
              "  margin-right: 0.25em;\n",
              "  color: var(--sklearn-color-icon);\n",
              "}\n",
              "\n",
              "#sk-container-id-1 label.sk-toggleable__label-arrow:hover:before {\n",
              "  color: var(--sklearn-color-text);\n",
              "}\n",
              "\n",
              "/* Toggleable content - dropdown */\n",
              "\n",
              "#sk-container-id-1 div.sk-toggleable__content {\n",
              "  max-height: 0;\n",
              "  max-width: 0;\n",
              "  overflow: hidden;\n",
              "  text-align: left;\n",
              "  /* unfitted */\n",
              "  background-color: var(--sklearn-color-unfitted-level-0);\n",
              "}\n",
              "\n",
              "#sk-container-id-1 div.sk-toggleable__content.fitted {\n",
              "  /* fitted */\n",
              "  background-color: var(--sklearn-color-fitted-level-0);\n",
              "}\n",
              "\n",
              "#sk-container-id-1 div.sk-toggleable__content pre {\n",
              "  margin: 0.2em;\n",
              "  border-radius: 0.25em;\n",
              "  color: var(--sklearn-color-text);\n",
              "  /* unfitted */\n",
              "  background-color: var(--sklearn-color-unfitted-level-0);\n",
              "}\n",
              "\n",
              "#sk-container-id-1 div.sk-toggleable__content.fitted pre {\n",
              "  /* unfitted */\n",
              "  background-color: var(--sklearn-color-fitted-level-0);\n",
              "}\n",
              "\n",
              "#sk-container-id-1 input.sk-toggleable__control:checked~div.sk-toggleable__content {\n",
              "  /* Expand drop-down */\n",
              "  max-height: 200px;\n",
              "  max-width: 100%;\n",
              "  overflow: auto;\n",
              "}\n",
              "\n",
              "#sk-container-id-1 input.sk-toggleable__control:checked~label.sk-toggleable__label-arrow:before {\n",
              "  content: \"▾\";\n",
              "}\n",
              "\n",
              "/* Pipeline/ColumnTransformer-specific style */\n",
              "\n",
              "#sk-container-id-1 div.sk-label input.sk-toggleable__control:checked~label.sk-toggleable__label {\n",
              "  color: var(--sklearn-color-text);\n",
              "  background-color: var(--sklearn-color-unfitted-level-2);\n",
              "}\n",
              "\n",
              "#sk-container-id-1 div.sk-label.fitted input.sk-toggleable__control:checked~label.sk-toggleable__label {\n",
              "  background-color: var(--sklearn-color-fitted-level-2);\n",
              "}\n",
              "\n",
              "/* Estimator-specific style */\n",
              "\n",
              "/* Colorize estimator box */\n",
              "#sk-container-id-1 div.sk-estimator input.sk-toggleable__control:checked~label.sk-toggleable__label {\n",
              "  /* unfitted */\n",
              "  background-color: var(--sklearn-color-unfitted-level-2);\n",
              "}\n",
              "\n",
              "#sk-container-id-1 div.sk-estimator.fitted input.sk-toggleable__control:checked~label.sk-toggleable__label {\n",
              "  /* fitted */\n",
              "  background-color: var(--sklearn-color-fitted-level-2);\n",
              "}\n",
              "\n",
              "#sk-container-id-1 div.sk-label label.sk-toggleable__label,\n",
              "#sk-container-id-1 div.sk-label label {\n",
              "  /* The background is the default theme color */\n",
              "  color: var(--sklearn-color-text-on-default-background);\n",
              "}\n",
              "\n",
              "/* On hover, darken the color of the background */\n",
              "#sk-container-id-1 div.sk-label:hover label.sk-toggleable__label {\n",
              "  color: var(--sklearn-color-text);\n",
              "  background-color: var(--sklearn-color-unfitted-level-2);\n",
              "}\n",
              "\n",
              "/* Label box, darken color on hover, fitted */\n",
              "#sk-container-id-1 div.sk-label.fitted:hover label.sk-toggleable__label.fitted {\n",
              "  color: var(--sklearn-color-text);\n",
              "  background-color: var(--sklearn-color-fitted-level-2);\n",
              "}\n",
              "\n",
              "/* Estimator label */\n",
              "\n",
              "#sk-container-id-1 div.sk-label label {\n",
              "  font-family: monospace;\n",
              "  font-weight: bold;\n",
              "  display: inline-block;\n",
              "  line-height: 1.2em;\n",
              "}\n",
              "\n",
              "#sk-container-id-1 div.sk-label-container {\n",
              "  text-align: center;\n",
              "}\n",
              "\n",
              "/* Estimator-specific */\n",
              "#sk-container-id-1 div.sk-estimator {\n",
              "  font-family: monospace;\n",
              "  border: 1px dotted var(--sklearn-color-border-box);\n",
              "  border-radius: 0.25em;\n",
              "  box-sizing: border-box;\n",
              "  margin-bottom: 0.5em;\n",
              "  /* unfitted */\n",
              "  background-color: var(--sklearn-color-unfitted-level-0);\n",
              "}\n",
              "\n",
              "#sk-container-id-1 div.sk-estimator.fitted {\n",
              "  /* fitted */\n",
              "  background-color: var(--sklearn-color-fitted-level-0);\n",
              "}\n",
              "\n",
              "/* on hover */\n",
              "#sk-container-id-1 div.sk-estimator:hover {\n",
              "  /* unfitted */\n",
              "  background-color: var(--sklearn-color-unfitted-level-2);\n",
              "}\n",
              "\n",
              "#sk-container-id-1 div.sk-estimator.fitted:hover {\n",
              "  /* fitted */\n",
              "  background-color: var(--sklearn-color-fitted-level-2);\n",
              "}\n",
              "\n",
              "/* Specification for estimator info (e.g. \"i\" and \"?\") */\n",
              "\n",
              "/* Common style for \"i\" and \"?\" */\n",
              "\n",
              ".sk-estimator-doc-link,\n",
              "a:link.sk-estimator-doc-link,\n",
              "a:visited.sk-estimator-doc-link {\n",
              "  float: right;\n",
              "  font-size: smaller;\n",
              "  line-height: 1em;\n",
              "  font-family: monospace;\n",
              "  background-color: var(--sklearn-color-background);\n",
              "  border-radius: 1em;\n",
              "  height: 1em;\n",
              "  width: 1em;\n",
              "  text-decoration: none !important;\n",
              "  margin-left: 1ex;\n",
              "  /* unfitted */\n",
              "  border: var(--sklearn-color-unfitted-level-1) 1pt solid;\n",
              "  color: var(--sklearn-color-unfitted-level-1);\n",
              "}\n",
              "\n",
              ".sk-estimator-doc-link.fitted,\n",
              "a:link.sk-estimator-doc-link.fitted,\n",
              "a:visited.sk-estimator-doc-link.fitted {\n",
              "  /* fitted */\n",
              "  border: var(--sklearn-color-fitted-level-1) 1pt solid;\n",
              "  color: var(--sklearn-color-fitted-level-1);\n",
              "}\n",
              "\n",
              "/* On hover */\n",
              "div.sk-estimator:hover .sk-estimator-doc-link:hover,\n",
              ".sk-estimator-doc-link:hover,\n",
              "div.sk-label-container:hover .sk-estimator-doc-link:hover,\n",
              ".sk-estimator-doc-link:hover {\n",
              "  /* unfitted */\n",
              "  background-color: var(--sklearn-color-unfitted-level-3);\n",
              "  color: var(--sklearn-color-background);\n",
              "  text-decoration: none;\n",
              "}\n",
              "\n",
              "div.sk-estimator.fitted:hover .sk-estimator-doc-link.fitted:hover,\n",
              ".sk-estimator-doc-link.fitted:hover,\n",
              "div.sk-label-container:hover .sk-estimator-doc-link.fitted:hover,\n",
              ".sk-estimator-doc-link.fitted:hover {\n",
              "  /* fitted */\n",
              "  background-color: var(--sklearn-color-fitted-level-3);\n",
              "  color: var(--sklearn-color-background);\n",
              "  text-decoration: none;\n",
              "}\n",
              "\n",
              "/* Span, style for the box shown on hovering the info icon */\n",
              ".sk-estimator-doc-link span {\n",
              "  display: none;\n",
              "  z-index: 9999;\n",
              "  position: relative;\n",
              "  font-weight: normal;\n",
              "  right: .2ex;\n",
              "  padding: .5ex;\n",
              "  margin: .5ex;\n",
              "  width: min-content;\n",
              "  min-width: 20ex;\n",
              "  max-width: 50ex;\n",
              "  color: var(--sklearn-color-text);\n",
              "  box-shadow: 2pt 2pt 4pt #999;\n",
              "  /* unfitted */\n",
              "  background: var(--sklearn-color-unfitted-level-0);\n",
              "  border: .5pt solid var(--sklearn-color-unfitted-level-3);\n",
              "}\n",
              "\n",
              ".sk-estimator-doc-link.fitted span {\n",
              "  /* fitted */\n",
              "  background: var(--sklearn-color-fitted-level-0);\n",
              "  border: var(--sklearn-color-fitted-level-3);\n",
              "}\n",
              "\n",
              ".sk-estimator-doc-link:hover span {\n",
              "  display: block;\n",
              "}\n",
              "\n",
              "/* \"?\"-specific style due to the `<a>` HTML tag */\n",
              "\n",
              "#sk-container-id-1 a.estimator_doc_link {\n",
              "  float: right;\n",
              "  font-size: 1rem;\n",
              "  line-height: 1em;\n",
              "  font-family: monospace;\n",
              "  background-color: var(--sklearn-color-background);\n",
              "  border-radius: 1rem;\n",
              "  height: 1rem;\n",
              "  width: 1rem;\n",
              "  text-decoration: none;\n",
              "  /* unfitted */\n",
              "  color: var(--sklearn-color-unfitted-level-1);\n",
              "  border: var(--sklearn-color-unfitted-level-1) 1pt solid;\n",
              "}\n",
              "\n",
              "#sk-container-id-1 a.estimator_doc_link.fitted {\n",
              "  /* fitted */\n",
              "  border: var(--sklearn-color-fitted-level-1) 1pt solid;\n",
              "  color: var(--sklearn-color-fitted-level-1);\n",
              "}\n",
              "\n",
              "/* On hover */\n",
              "#sk-container-id-1 a.estimator_doc_link:hover {\n",
              "  /* unfitted */\n",
              "  background-color: var(--sklearn-color-unfitted-level-3);\n",
              "  color: var(--sklearn-color-background);\n",
              "  text-decoration: none;\n",
              "}\n",
              "\n",
              "#sk-container-id-1 a.estimator_doc_link.fitted:hover {\n",
              "  /* fitted */\n",
              "  background-color: var(--sklearn-color-fitted-level-3);\n",
              "}\n",
              "</style><div id=\"sk-container-id-1\" class=\"sk-top-container\"><div class=\"sk-text-repr-fallback\"><pre>GridSearchCV(cv=3, estimator=DecisionTreeRegressor(), n_jobs=-1,\n",
              "             param_grid={&#x27;criterion&#x27;: [&#x27;squared_error&#x27;, &#x27;friedman_mse&#x27;,\n",
              "                                       &#x27;absolute_error&#x27;],\n",
              "                         &#x27;max_depth&#x27;: [40, 60, 80, 100, None]},\n",
              "             verbose=2)</pre><b>In a Jupyter environment, please rerun this cell to show the HTML representation or trust the notebook. <br />On GitHub, the HTML representation is unable to render, please try loading this page with nbviewer.org.</b></div><div class=\"sk-container\" hidden><div class=\"sk-item sk-dashed-wrapped\"><div class=\"sk-label-container\"><div class=\"sk-label fitted sk-toggleable\"><input class=\"sk-toggleable__control sk-hidden--visually\" id=\"sk-estimator-id-1\" type=\"checkbox\" ><label for=\"sk-estimator-id-1\" class=\"sk-toggleable__label fitted sk-toggleable__label-arrow fitted\">&nbsp;&nbsp;GridSearchCV<a class=\"sk-estimator-doc-link fitted\" rel=\"noreferrer\" target=\"_blank\" href=\"https://scikit-learn.org/1.4/modules/generated/sklearn.model_selection.GridSearchCV.html\">?<span>Documentation for GridSearchCV</span></a><span class=\"sk-estimator-doc-link fitted\">i<span>Fitted</span></span></label><div class=\"sk-toggleable__content fitted\"><pre>GridSearchCV(cv=3, estimator=DecisionTreeRegressor(), n_jobs=-1,\n",
              "             param_grid={&#x27;criterion&#x27;: [&#x27;squared_error&#x27;, &#x27;friedman_mse&#x27;,\n",
              "                                       &#x27;absolute_error&#x27;],\n",
              "                         &#x27;max_depth&#x27;: [40, 60, 80, 100, None]},\n",
              "             verbose=2)</pre></div> </div></div><div class=\"sk-parallel\"><div class=\"sk-parallel-item\"><div class=\"sk-item\"><div class=\"sk-label-container\"><div class=\"sk-label fitted sk-toggleable\"><input class=\"sk-toggleable__control sk-hidden--visually\" id=\"sk-estimator-id-2\" type=\"checkbox\" ><label for=\"sk-estimator-id-2\" class=\"sk-toggleable__label fitted sk-toggleable__label-arrow fitted\">estimator: DecisionTreeRegressor</label><div class=\"sk-toggleable__content fitted\"><pre>DecisionTreeRegressor()</pre></div> </div></div><div class=\"sk-serial\"><div class=\"sk-item\"><div class=\"sk-estimator fitted sk-toggleable\"><input class=\"sk-toggleable__control sk-hidden--visually\" id=\"sk-estimator-id-3\" type=\"checkbox\" ><label for=\"sk-estimator-id-3\" class=\"sk-toggleable__label fitted sk-toggleable__label-arrow fitted\">&nbsp;DecisionTreeRegressor<a class=\"sk-estimator-doc-link fitted\" rel=\"noreferrer\" target=\"_blank\" href=\"https://scikit-learn.org/1.4/modules/generated/sklearn.tree.DecisionTreeRegressor.html\">?<span>Documentation for DecisionTreeRegressor</span></a></label><div class=\"sk-toggleable__content fitted\"><pre>DecisionTreeRegressor()</pre></div> </div></div></div></div></div></div></div></div></div>"
            ],
            "text/plain": [
              "GridSearchCV(cv=3, estimator=DecisionTreeRegressor(), n_jobs=-1,\n",
              "             param_grid={'criterion': ['squared_error', 'friedman_mse',\n",
              "                                       'absolute_error'],\n",
              "                         'max_depth': [40, 60, 80, 100, None]},\n",
              "             verbose=2)"
            ]
          },
          "execution_count": 152,
          "metadata": {},
          "output_type": "execute_result"
        }
      ],
      "source": [
        "dt_reg = DecisionTreeRegressor()\n",
        "\n",
        "df_grid_reg = GridSearchCV(estimator=dt_reg, param_grid=grid_params_dict, cv=3, verbose=2, n_jobs=-1)\n",
        "\n",
        "df_grid_reg.fit(X_train,y_train)"
      ]
    },
    {
      "cell_type": "code",
      "execution_count": 153,
      "metadata": {
        "colab": {
          "base_uri": "https://localhost:8080/"
        },
        "id": "x1vWst4ZzYVC",
        "outputId": "f4fce59c-6062-4bc8-af31-9d85173c0f0a"
      },
      "outputs": [
        {
          "data": {
            "text/plain": [
              "{'criterion': 'friedman_mse', 'max_depth': None}"
            ]
          },
          "execution_count": 153,
          "metadata": {},
          "output_type": "execute_result"
        }
      ],
      "source": [
        "df_grid_reg.best_params_"
      ]
    },
    {
      "cell_type": "code",
      "execution_count": 154,
      "metadata": {
        "colab": {
          "base_uri": "https://localhost:8080/",
          "height": 74
        },
        "id": "QA3E12gh0JfU",
        "outputId": "9574bde2-fc53-4187-a233-4cb4a63266a2"
      },
      "outputs": [
        {
          "data": {
            "text/html": [
              "<style>#sk-container-id-2 {\n",
              "  /* Definition of color scheme common for light and dark mode */\n",
              "  --sklearn-color-text: black;\n",
              "  --sklearn-color-line: gray;\n",
              "  /* Definition of color scheme for unfitted estimators */\n",
              "  --sklearn-color-unfitted-level-0: #fff5e6;\n",
              "  --sklearn-color-unfitted-level-1: #f6e4d2;\n",
              "  --sklearn-color-unfitted-level-2: #ffe0b3;\n",
              "  --sklearn-color-unfitted-level-3: chocolate;\n",
              "  /* Definition of color scheme for fitted estimators */\n",
              "  --sklearn-color-fitted-level-0: #f0f8ff;\n",
              "  --sklearn-color-fitted-level-1: #d4ebff;\n",
              "  --sklearn-color-fitted-level-2: #b3dbfd;\n",
              "  --sklearn-color-fitted-level-3: cornflowerblue;\n",
              "\n",
              "  /* Specific color for light theme */\n",
              "  --sklearn-color-text-on-default-background: var(--sg-text-color, var(--theme-code-foreground, var(--jp-content-font-color1, black)));\n",
              "  --sklearn-color-background: var(--sg-background-color, var(--theme-background, var(--jp-layout-color0, white)));\n",
              "  --sklearn-color-border-box: var(--sg-text-color, var(--theme-code-foreground, var(--jp-content-font-color1, black)));\n",
              "  --sklearn-color-icon: #696969;\n",
              "\n",
              "  @media (prefers-color-scheme: dark) {\n",
              "    /* Redefinition of color scheme for dark theme */\n",
              "    --sklearn-color-text-on-default-background: var(--sg-text-color, var(--theme-code-foreground, var(--jp-content-font-color1, white)));\n",
              "    --sklearn-color-background: var(--sg-background-color, var(--theme-background, var(--jp-layout-color0, #111)));\n",
              "    --sklearn-color-border-box: var(--sg-text-color, var(--theme-code-foreground, var(--jp-content-font-color1, white)));\n",
              "    --sklearn-color-icon: #878787;\n",
              "  }\n",
              "}\n",
              "\n",
              "#sk-container-id-2 {\n",
              "  color: var(--sklearn-color-text);\n",
              "}\n",
              "\n",
              "#sk-container-id-2 pre {\n",
              "  padding: 0;\n",
              "}\n",
              "\n",
              "#sk-container-id-2 input.sk-hidden--visually {\n",
              "  border: 0;\n",
              "  clip: rect(1px 1px 1px 1px);\n",
              "  clip: rect(1px, 1px, 1px, 1px);\n",
              "  height: 1px;\n",
              "  margin: -1px;\n",
              "  overflow: hidden;\n",
              "  padding: 0;\n",
              "  position: absolute;\n",
              "  width: 1px;\n",
              "}\n",
              "\n",
              "#sk-container-id-2 div.sk-dashed-wrapped {\n",
              "  border: 1px dashed var(--sklearn-color-line);\n",
              "  margin: 0 0.4em 0.5em 0.4em;\n",
              "  box-sizing: border-box;\n",
              "  padding-bottom: 0.4em;\n",
              "  background-color: var(--sklearn-color-background);\n",
              "}\n",
              "\n",
              "#sk-container-id-2 div.sk-container {\n",
              "  /* jupyter's `normalize.less` sets `[hidden] { display: none; }`\n",
              "     but bootstrap.min.css set `[hidden] { display: none !important; }`\n",
              "     so we also need the `!important` here to be able to override the\n",
              "     default hidden behavior on the sphinx rendered scikit-learn.org.\n",
              "     See: https://github.com/scikit-learn/scikit-learn/issues/21755 */\n",
              "  display: inline-block !important;\n",
              "  position: relative;\n",
              "}\n",
              "\n",
              "#sk-container-id-2 div.sk-text-repr-fallback {\n",
              "  display: none;\n",
              "}\n",
              "\n",
              "div.sk-parallel-item,\n",
              "div.sk-serial,\n",
              "div.sk-item {\n",
              "  /* draw centered vertical line to link estimators */\n",
              "  background-image: linear-gradient(var(--sklearn-color-text-on-default-background), var(--sklearn-color-text-on-default-background));\n",
              "  background-size: 2px 100%;\n",
              "  background-repeat: no-repeat;\n",
              "  background-position: center center;\n",
              "}\n",
              "\n",
              "/* Parallel-specific style estimator block */\n",
              "\n",
              "#sk-container-id-2 div.sk-parallel-item::after {\n",
              "  content: \"\";\n",
              "  width: 100%;\n",
              "  border-bottom: 2px solid var(--sklearn-color-text-on-default-background);\n",
              "  flex-grow: 1;\n",
              "}\n",
              "\n",
              "#sk-container-id-2 div.sk-parallel {\n",
              "  display: flex;\n",
              "  align-items: stretch;\n",
              "  justify-content: center;\n",
              "  background-color: var(--sklearn-color-background);\n",
              "  position: relative;\n",
              "}\n",
              "\n",
              "#sk-container-id-2 div.sk-parallel-item {\n",
              "  display: flex;\n",
              "  flex-direction: column;\n",
              "}\n",
              "\n",
              "#sk-container-id-2 div.sk-parallel-item:first-child::after {\n",
              "  align-self: flex-end;\n",
              "  width: 50%;\n",
              "}\n",
              "\n",
              "#sk-container-id-2 div.sk-parallel-item:last-child::after {\n",
              "  align-self: flex-start;\n",
              "  width: 50%;\n",
              "}\n",
              "\n",
              "#sk-container-id-2 div.sk-parallel-item:only-child::after {\n",
              "  width: 0;\n",
              "}\n",
              "\n",
              "/* Serial-specific style estimator block */\n",
              "\n",
              "#sk-container-id-2 div.sk-serial {\n",
              "  display: flex;\n",
              "  flex-direction: column;\n",
              "  align-items: center;\n",
              "  background-color: var(--sklearn-color-background);\n",
              "  padding-right: 1em;\n",
              "  padding-left: 1em;\n",
              "}\n",
              "\n",
              "\n",
              "/* Toggleable style: style used for estimator/Pipeline/ColumnTransformer box that is\n",
              "clickable and can be expanded/collapsed.\n",
              "- Pipeline and ColumnTransformer use this feature and define the default style\n",
              "- Estimators will overwrite some part of the style using the `sk-estimator` class\n",
              "*/\n",
              "\n",
              "/* Pipeline and ColumnTransformer style (default) */\n",
              "\n",
              "#sk-container-id-2 div.sk-toggleable {\n",
              "  /* Default theme specific background. It is overwritten whether we have a\n",
              "  specific estimator or a Pipeline/ColumnTransformer */\n",
              "  background-color: var(--sklearn-color-background);\n",
              "}\n",
              "\n",
              "/* Toggleable label */\n",
              "#sk-container-id-2 label.sk-toggleable__label {\n",
              "  cursor: pointer;\n",
              "  display: block;\n",
              "  width: 100%;\n",
              "  margin-bottom: 0;\n",
              "  padding: 0.5em;\n",
              "  box-sizing: border-box;\n",
              "  text-align: center;\n",
              "}\n",
              "\n",
              "#sk-container-id-2 label.sk-toggleable__label-arrow:before {\n",
              "  /* Arrow on the left of the label */\n",
              "  content: \"▸\";\n",
              "  float: left;\n",
              "  margin-right: 0.25em;\n",
              "  color: var(--sklearn-color-icon);\n",
              "}\n",
              "\n",
              "#sk-container-id-2 label.sk-toggleable__label-arrow:hover:before {\n",
              "  color: var(--sklearn-color-text);\n",
              "}\n",
              "\n",
              "/* Toggleable content - dropdown */\n",
              "\n",
              "#sk-container-id-2 div.sk-toggleable__content {\n",
              "  max-height: 0;\n",
              "  max-width: 0;\n",
              "  overflow: hidden;\n",
              "  text-align: left;\n",
              "  /* unfitted */\n",
              "  background-color: var(--sklearn-color-unfitted-level-0);\n",
              "}\n",
              "\n",
              "#sk-container-id-2 div.sk-toggleable__content.fitted {\n",
              "  /* fitted */\n",
              "  background-color: var(--sklearn-color-fitted-level-0);\n",
              "}\n",
              "\n",
              "#sk-container-id-2 div.sk-toggleable__content pre {\n",
              "  margin: 0.2em;\n",
              "  border-radius: 0.25em;\n",
              "  color: var(--sklearn-color-text);\n",
              "  /* unfitted */\n",
              "  background-color: var(--sklearn-color-unfitted-level-0);\n",
              "}\n",
              "\n",
              "#sk-container-id-2 div.sk-toggleable__content.fitted pre {\n",
              "  /* unfitted */\n",
              "  background-color: var(--sklearn-color-fitted-level-0);\n",
              "}\n",
              "\n",
              "#sk-container-id-2 input.sk-toggleable__control:checked~div.sk-toggleable__content {\n",
              "  /* Expand drop-down */\n",
              "  max-height: 200px;\n",
              "  max-width: 100%;\n",
              "  overflow: auto;\n",
              "}\n",
              "\n",
              "#sk-container-id-2 input.sk-toggleable__control:checked~label.sk-toggleable__label-arrow:before {\n",
              "  content: \"▾\";\n",
              "}\n",
              "\n",
              "/* Pipeline/ColumnTransformer-specific style */\n",
              "\n",
              "#sk-container-id-2 div.sk-label input.sk-toggleable__control:checked~label.sk-toggleable__label {\n",
              "  color: var(--sklearn-color-text);\n",
              "  background-color: var(--sklearn-color-unfitted-level-2);\n",
              "}\n",
              "\n",
              "#sk-container-id-2 div.sk-label.fitted input.sk-toggleable__control:checked~label.sk-toggleable__label {\n",
              "  background-color: var(--sklearn-color-fitted-level-2);\n",
              "}\n",
              "\n",
              "/* Estimator-specific style */\n",
              "\n",
              "/* Colorize estimator box */\n",
              "#sk-container-id-2 div.sk-estimator input.sk-toggleable__control:checked~label.sk-toggleable__label {\n",
              "  /* unfitted */\n",
              "  background-color: var(--sklearn-color-unfitted-level-2);\n",
              "}\n",
              "\n",
              "#sk-container-id-2 div.sk-estimator.fitted input.sk-toggleable__control:checked~label.sk-toggleable__label {\n",
              "  /* fitted */\n",
              "  background-color: var(--sklearn-color-fitted-level-2);\n",
              "}\n",
              "\n",
              "#sk-container-id-2 div.sk-label label.sk-toggleable__label,\n",
              "#sk-container-id-2 div.sk-label label {\n",
              "  /* The background is the default theme color */\n",
              "  color: var(--sklearn-color-text-on-default-background);\n",
              "}\n",
              "\n",
              "/* On hover, darken the color of the background */\n",
              "#sk-container-id-2 div.sk-label:hover label.sk-toggleable__label {\n",
              "  color: var(--sklearn-color-text);\n",
              "  background-color: var(--sklearn-color-unfitted-level-2);\n",
              "}\n",
              "\n",
              "/* Label box, darken color on hover, fitted */\n",
              "#sk-container-id-2 div.sk-label.fitted:hover label.sk-toggleable__label.fitted {\n",
              "  color: var(--sklearn-color-text);\n",
              "  background-color: var(--sklearn-color-fitted-level-2);\n",
              "}\n",
              "\n",
              "/* Estimator label */\n",
              "\n",
              "#sk-container-id-2 div.sk-label label {\n",
              "  font-family: monospace;\n",
              "  font-weight: bold;\n",
              "  display: inline-block;\n",
              "  line-height: 1.2em;\n",
              "}\n",
              "\n",
              "#sk-container-id-2 div.sk-label-container {\n",
              "  text-align: center;\n",
              "}\n",
              "\n",
              "/* Estimator-specific */\n",
              "#sk-container-id-2 div.sk-estimator {\n",
              "  font-family: monospace;\n",
              "  border: 1px dotted var(--sklearn-color-border-box);\n",
              "  border-radius: 0.25em;\n",
              "  box-sizing: border-box;\n",
              "  margin-bottom: 0.5em;\n",
              "  /* unfitted */\n",
              "  background-color: var(--sklearn-color-unfitted-level-0);\n",
              "}\n",
              "\n",
              "#sk-container-id-2 div.sk-estimator.fitted {\n",
              "  /* fitted */\n",
              "  background-color: var(--sklearn-color-fitted-level-0);\n",
              "}\n",
              "\n",
              "/* on hover */\n",
              "#sk-container-id-2 div.sk-estimator:hover {\n",
              "  /* unfitted */\n",
              "  background-color: var(--sklearn-color-unfitted-level-2);\n",
              "}\n",
              "\n",
              "#sk-container-id-2 div.sk-estimator.fitted:hover {\n",
              "  /* fitted */\n",
              "  background-color: var(--sklearn-color-fitted-level-2);\n",
              "}\n",
              "\n",
              "/* Specification for estimator info (e.g. \"i\" and \"?\") */\n",
              "\n",
              "/* Common style for \"i\" and \"?\" */\n",
              "\n",
              ".sk-estimator-doc-link,\n",
              "a:link.sk-estimator-doc-link,\n",
              "a:visited.sk-estimator-doc-link {\n",
              "  float: right;\n",
              "  font-size: smaller;\n",
              "  line-height: 1em;\n",
              "  font-family: monospace;\n",
              "  background-color: var(--sklearn-color-background);\n",
              "  border-radius: 1em;\n",
              "  height: 1em;\n",
              "  width: 1em;\n",
              "  text-decoration: none !important;\n",
              "  margin-left: 1ex;\n",
              "  /* unfitted */\n",
              "  border: var(--sklearn-color-unfitted-level-1) 1pt solid;\n",
              "  color: var(--sklearn-color-unfitted-level-1);\n",
              "}\n",
              "\n",
              ".sk-estimator-doc-link.fitted,\n",
              "a:link.sk-estimator-doc-link.fitted,\n",
              "a:visited.sk-estimator-doc-link.fitted {\n",
              "  /* fitted */\n",
              "  border: var(--sklearn-color-fitted-level-1) 1pt solid;\n",
              "  color: var(--sklearn-color-fitted-level-1);\n",
              "}\n",
              "\n",
              "/* On hover */\n",
              "div.sk-estimator:hover .sk-estimator-doc-link:hover,\n",
              ".sk-estimator-doc-link:hover,\n",
              "div.sk-label-container:hover .sk-estimator-doc-link:hover,\n",
              ".sk-estimator-doc-link:hover {\n",
              "  /* unfitted */\n",
              "  background-color: var(--sklearn-color-unfitted-level-3);\n",
              "  color: var(--sklearn-color-background);\n",
              "  text-decoration: none;\n",
              "}\n",
              "\n",
              "div.sk-estimator.fitted:hover .sk-estimator-doc-link.fitted:hover,\n",
              ".sk-estimator-doc-link.fitted:hover,\n",
              "div.sk-label-container:hover .sk-estimator-doc-link.fitted:hover,\n",
              ".sk-estimator-doc-link.fitted:hover {\n",
              "  /* fitted */\n",
              "  background-color: var(--sklearn-color-fitted-level-3);\n",
              "  color: var(--sklearn-color-background);\n",
              "  text-decoration: none;\n",
              "}\n",
              "\n",
              "/* Span, style for the box shown on hovering the info icon */\n",
              ".sk-estimator-doc-link span {\n",
              "  display: none;\n",
              "  z-index: 9999;\n",
              "  position: relative;\n",
              "  font-weight: normal;\n",
              "  right: .2ex;\n",
              "  padding: .5ex;\n",
              "  margin: .5ex;\n",
              "  width: min-content;\n",
              "  min-width: 20ex;\n",
              "  max-width: 50ex;\n",
              "  color: var(--sklearn-color-text);\n",
              "  box-shadow: 2pt 2pt 4pt #999;\n",
              "  /* unfitted */\n",
              "  background: var(--sklearn-color-unfitted-level-0);\n",
              "  border: .5pt solid var(--sklearn-color-unfitted-level-3);\n",
              "}\n",
              "\n",
              ".sk-estimator-doc-link.fitted span {\n",
              "  /* fitted */\n",
              "  background: var(--sklearn-color-fitted-level-0);\n",
              "  border: var(--sklearn-color-fitted-level-3);\n",
              "}\n",
              "\n",
              ".sk-estimator-doc-link:hover span {\n",
              "  display: block;\n",
              "}\n",
              "\n",
              "/* \"?\"-specific style due to the `<a>` HTML tag */\n",
              "\n",
              "#sk-container-id-2 a.estimator_doc_link {\n",
              "  float: right;\n",
              "  font-size: 1rem;\n",
              "  line-height: 1em;\n",
              "  font-family: monospace;\n",
              "  background-color: var(--sklearn-color-background);\n",
              "  border-radius: 1rem;\n",
              "  height: 1rem;\n",
              "  width: 1rem;\n",
              "  text-decoration: none;\n",
              "  /* unfitted */\n",
              "  color: var(--sklearn-color-unfitted-level-1);\n",
              "  border: var(--sklearn-color-unfitted-level-1) 1pt solid;\n",
              "}\n",
              "\n",
              "#sk-container-id-2 a.estimator_doc_link.fitted {\n",
              "  /* fitted */\n",
              "  border: var(--sklearn-color-fitted-level-1) 1pt solid;\n",
              "  color: var(--sklearn-color-fitted-level-1);\n",
              "}\n",
              "\n",
              "/* On hover */\n",
              "#sk-container-id-2 a.estimator_doc_link:hover {\n",
              "  /* unfitted */\n",
              "  background-color: var(--sklearn-color-unfitted-level-3);\n",
              "  color: var(--sklearn-color-background);\n",
              "  text-decoration: none;\n",
              "}\n",
              "\n",
              "#sk-container-id-2 a.estimator_doc_link.fitted:hover {\n",
              "  /* fitted */\n",
              "  background-color: var(--sklearn-color-fitted-level-3);\n",
              "}\n",
              "</style><div id=\"sk-container-id-2\" class=\"sk-top-container\"><div class=\"sk-text-repr-fallback\"><pre>DecisionTreeRegressor(criterion=&#x27;friedman_mse&#x27;)</pre><b>In a Jupyter environment, please rerun this cell to show the HTML representation or trust the notebook. <br />On GitHub, the HTML representation is unable to render, please try loading this page with nbviewer.org.</b></div><div class=\"sk-container\" hidden><div class=\"sk-item\"><div class=\"sk-estimator fitted sk-toggleable\"><input class=\"sk-toggleable__control sk-hidden--visually\" id=\"sk-estimator-id-4\" type=\"checkbox\" checked><label for=\"sk-estimator-id-4\" class=\"sk-toggleable__label fitted sk-toggleable__label-arrow fitted\">&nbsp;&nbsp;DecisionTreeRegressor<a class=\"sk-estimator-doc-link fitted\" rel=\"noreferrer\" target=\"_blank\" href=\"https://scikit-learn.org/1.4/modules/generated/sklearn.tree.DecisionTreeRegressor.html\">?<span>Documentation for DecisionTreeRegressor</span></a><span class=\"sk-estimator-doc-link fitted\">i<span>Fitted</span></span></label><div class=\"sk-toggleable__content fitted\"><pre>DecisionTreeRegressor(criterion=&#x27;friedman_mse&#x27;)</pre></div> </div></div></div></div>"
            ],
            "text/plain": [
              "DecisionTreeRegressor(criterion='friedman_mse')"
            ]
          },
          "execution_count": 154,
          "metadata": {},
          "output_type": "execute_result"
        }
      ],
      "source": [
        "df_grid_reg.best_estimator_"
      ]
    },
    {
      "cell_type": "code",
      "execution_count": 155,
      "metadata": {
        "colab": {
          "base_uri": "https://localhost:8080/"
        },
        "id": "a9IywUya0TbW",
        "outputId": "43bf82d2-3889-4f8a-e8e9-bdf1a33443a5"
      },
      "outputs": [
        {
          "name": "stdout",
          "output_type": "stream",
          "text": [
            "MSE is 0.0\n",
            "RMSE is 0.0\n",
            "R2 Score is 1.0\n",
            "Adjusted R2 :  1.0\n"
          ]
        }
      ],
      "source": [
        "df_optimal_model =df_grid_reg.best_estimator_\n",
        "y_train_pred = df_optimal_model.predict(X_train)\n",
        "\n",
        "evaluate_metric(y_train,y_train_pred)\n",
        "print(\"Adjusted R2 : \",1-(1-r2_score((y_train), (y_train_pred)))*((X_train.shape[0]-1)/(X_train.shape[0]-X_train.shape[1]-1)))"
      ]
    },
    {
      "cell_type": "code",
      "execution_count": 156,
      "metadata": {
        "colab": {
          "base_uri": "https://localhost:8080/"
        },
        "id": "cFgbBvzM0fsY",
        "outputId": "378ad8ac-8d7e-41ce-8284-a16e62c07b06"
      },
      "outputs": [
        {
          "name": "stdout",
          "output_type": "stream",
          "text": [
            "MSE is 11759.8744\n",
            "RMSE is 108.44295458903727\n",
            "R2 Score is -0.8554548339401182\n",
            "Adjusted R2 :  -0.9136771986715175\n"
          ]
        }
      ],
      "source": [
        "y_test_pred = df_optimal_model.predict(X_test)\n",
        "\n",
        "evaluate_metric(y_test,y_test_pred)\n",
        "print(\"Adjusted R2 : \",1-(1-r2_score((y_test), (y_test_pred)))*((X_test.shape[0]-1)/(X_test.shape[0]-X_test.shape[1]-1)))"
      ]
    },
    {
      "cell_type": "code",
      "execution_count": 168,
      "metadata": {
        "colab": {
          "base_uri": "https://localhost:8080/"
        },
        "id": "-M9RiNha0RyB",
        "outputId": "57050eaf-49e5-45f7-c055-3cdb7d90d803"
      },
      "outputs": [
        {
          "name": "stdout",
          "output_type": "stream",
          "text": [
            "Parameters currently in use:\n",
            "\n",
            "{'bootstrap': True, 'ccp_alpha': 0.0, 'criterion': 'squared_error', 'max_depth': None, 'max_features': 1.0, 'max_leaf_nodes': None, 'max_samples': None, 'min_impurity_decrease': 0.0, 'min_samples_leaf': 1, 'min_samples_split': 2, 'min_weight_fraction_leaf': 0.0, 'monotonic_cst': None, 'n_estimators': 100, 'n_jobs': None, 'oob_score': False, 'random_state': None, 'verbose': 0, 'warm_start': False}\n"
          ]
        }
      ],
      "source": [
        "from sklearn.ensemble import RandomForestRegressor\n",
        "rfr = RandomForestRegressor()\n",
        "from pprint import pprint\n",
        "# Look at parameters used by our current forest\n",
        "print('Parameters currently in use:\\n')\n",
        "print(rfr.get_params())"
      ]
    },
    {
      "cell_type": "code",
      "execution_count": 158,
      "metadata": {
        "colab": {
          "base_uri": "https://localhost:8080/"
        },
        "id": "Dp9ewHwP0Rnp",
        "outputId": "f30f2c19-fed0-4e2c-e87e-1c7fb930dfce"
      },
      "outputs": [
        {
          "name": "stdout",
          "output_type": "stream",
          "text": [
            "{'max_depth': [40, 60, 80, 100, None], 'n_estimators': [400, 600, 800, 1000]}\n"
          ]
        }
      ],
      "source": [
        "n_estimators = [int(x) for x in np.linspace(start = 400, stop = 1000, num = 4)]\n",
        "\n",
        "# Maximum number of levels in tree\n",
        "max_depth = [int(x) for x in np.linspace(40, 100, num = 4)]\n",
        "max_depth.append(None)\n",
        "\n",
        "# Create the parameters grid\n",
        "grid_params_dict = {'n_estimators': n_estimators,\n",
        "               'max_depth': max_depth,\n",
        "                    }\n",
        "pprint(grid_params_dict)"
      ]
    },
    {
      "cell_type": "code",
      "execution_count": 161,
      "metadata": {
        "colab": {
          "base_uri": "https://localhost:8080/",
          "height": 134
        },
        "id": "hKybns33T0hr",
        "outputId": "d40d37cf-abaf-4e0e-a57f-d316f3235f37"
      },
      "outputs": [
        {
          "name": "stdout",
          "output_type": "stream",
          "text": [
            "Fitting 3 folds for each of 20 candidates, totalling 60 fits\n"
          ]
        },
        {
          "data": {
            "text/html": [
              "<style>#sk-container-id-3 {\n",
              "  /* Definition of color scheme common for light and dark mode */\n",
              "  --sklearn-color-text: black;\n",
              "  --sklearn-color-line: gray;\n",
              "  /* Definition of color scheme for unfitted estimators */\n",
              "  --sklearn-color-unfitted-level-0: #fff5e6;\n",
              "  --sklearn-color-unfitted-level-1: #f6e4d2;\n",
              "  --sklearn-color-unfitted-level-2: #ffe0b3;\n",
              "  --sklearn-color-unfitted-level-3: chocolate;\n",
              "  /* Definition of color scheme for fitted estimators */\n",
              "  --sklearn-color-fitted-level-0: #f0f8ff;\n",
              "  --sklearn-color-fitted-level-1: #d4ebff;\n",
              "  --sklearn-color-fitted-level-2: #b3dbfd;\n",
              "  --sklearn-color-fitted-level-3: cornflowerblue;\n",
              "\n",
              "  /* Specific color for light theme */\n",
              "  --sklearn-color-text-on-default-background: var(--sg-text-color, var(--theme-code-foreground, var(--jp-content-font-color1, black)));\n",
              "  --sklearn-color-background: var(--sg-background-color, var(--theme-background, var(--jp-layout-color0, white)));\n",
              "  --sklearn-color-border-box: var(--sg-text-color, var(--theme-code-foreground, var(--jp-content-font-color1, black)));\n",
              "  --sklearn-color-icon: #696969;\n",
              "\n",
              "  @media (prefers-color-scheme: dark) {\n",
              "    /* Redefinition of color scheme for dark theme */\n",
              "    --sklearn-color-text-on-default-background: var(--sg-text-color, var(--theme-code-foreground, var(--jp-content-font-color1, white)));\n",
              "    --sklearn-color-background: var(--sg-background-color, var(--theme-background, var(--jp-layout-color0, #111)));\n",
              "    --sklearn-color-border-box: var(--sg-text-color, var(--theme-code-foreground, var(--jp-content-font-color1, white)));\n",
              "    --sklearn-color-icon: #878787;\n",
              "  }\n",
              "}\n",
              "\n",
              "#sk-container-id-3 {\n",
              "  color: var(--sklearn-color-text);\n",
              "}\n",
              "\n",
              "#sk-container-id-3 pre {\n",
              "  padding: 0;\n",
              "}\n",
              "\n",
              "#sk-container-id-3 input.sk-hidden--visually {\n",
              "  border: 0;\n",
              "  clip: rect(1px 1px 1px 1px);\n",
              "  clip: rect(1px, 1px, 1px, 1px);\n",
              "  height: 1px;\n",
              "  margin: -1px;\n",
              "  overflow: hidden;\n",
              "  padding: 0;\n",
              "  position: absolute;\n",
              "  width: 1px;\n",
              "}\n",
              "\n",
              "#sk-container-id-3 div.sk-dashed-wrapped {\n",
              "  border: 1px dashed var(--sklearn-color-line);\n",
              "  margin: 0 0.4em 0.5em 0.4em;\n",
              "  box-sizing: border-box;\n",
              "  padding-bottom: 0.4em;\n",
              "  background-color: var(--sklearn-color-background);\n",
              "}\n",
              "\n",
              "#sk-container-id-3 div.sk-container {\n",
              "  /* jupyter's `normalize.less` sets `[hidden] { display: none; }`\n",
              "     but bootstrap.min.css set `[hidden] { display: none !important; }`\n",
              "     so we also need the `!important` here to be able to override the\n",
              "     default hidden behavior on the sphinx rendered scikit-learn.org.\n",
              "     See: https://github.com/scikit-learn/scikit-learn/issues/21755 */\n",
              "  display: inline-block !important;\n",
              "  position: relative;\n",
              "}\n",
              "\n",
              "#sk-container-id-3 div.sk-text-repr-fallback {\n",
              "  display: none;\n",
              "}\n",
              "\n",
              "div.sk-parallel-item,\n",
              "div.sk-serial,\n",
              "div.sk-item {\n",
              "  /* draw centered vertical line to link estimators */\n",
              "  background-image: linear-gradient(var(--sklearn-color-text-on-default-background), var(--sklearn-color-text-on-default-background));\n",
              "  background-size: 2px 100%;\n",
              "  background-repeat: no-repeat;\n",
              "  background-position: center center;\n",
              "}\n",
              "\n",
              "/* Parallel-specific style estimator block */\n",
              "\n",
              "#sk-container-id-3 div.sk-parallel-item::after {\n",
              "  content: \"\";\n",
              "  width: 100%;\n",
              "  border-bottom: 2px solid var(--sklearn-color-text-on-default-background);\n",
              "  flex-grow: 1;\n",
              "}\n",
              "\n",
              "#sk-container-id-3 div.sk-parallel {\n",
              "  display: flex;\n",
              "  align-items: stretch;\n",
              "  justify-content: center;\n",
              "  background-color: var(--sklearn-color-background);\n",
              "  position: relative;\n",
              "}\n",
              "\n",
              "#sk-container-id-3 div.sk-parallel-item {\n",
              "  display: flex;\n",
              "  flex-direction: column;\n",
              "}\n",
              "\n",
              "#sk-container-id-3 div.sk-parallel-item:first-child::after {\n",
              "  align-self: flex-end;\n",
              "  width: 50%;\n",
              "}\n",
              "\n",
              "#sk-container-id-3 div.sk-parallel-item:last-child::after {\n",
              "  align-self: flex-start;\n",
              "  width: 50%;\n",
              "}\n",
              "\n",
              "#sk-container-id-3 div.sk-parallel-item:only-child::after {\n",
              "  width: 0;\n",
              "}\n",
              "\n",
              "/* Serial-specific style estimator block */\n",
              "\n",
              "#sk-container-id-3 div.sk-serial {\n",
              "  display: flex;\n",
              "  flex-direction: column;\n",
              "  align-items: center;\n",
              "  background-color: var(--sklearn-color-background);\n",
              "  padding-right: 1em;\n",
              "  padding-left: 1em;\n",
              "}\n",
              "\n",
              "\n",
              "/* Toggleable style: style used for estimator/Pipeline/ColumnTransformer box that is\n",
              "clickable and can be expanded/collapsed.\n",
              "- Pipeline and ColumnTransformer use this feature and define the default style\n",
              "- Estimators will overwrite some part of the style using the `sk-estimator` class\n",
              "*/\n",
              "\n",
              "/* Pipeline and ColumnTransformer style (default) */\n",
              "\n",
              "#sk-container-id-3 div.sk-toggleable {\n",
              "  /* Default theme specific background. It is overwritten whether we have a\n",
              "  specific estimator or a Pipeline/ColumnTransformer */\n",
              "  background-color: var(--sklearn-color-background);\n",
              "}\n",
              "\n",
              "/* Toggleable label */\n",
              "#sk-container-id-3 label.sk-toggleable__label {\n",
              "  cursor: pointer;\n",
              "  display: block;\n",
              "  width: 100%;\n",
              "  margin-bottom: 0;\n",
              "  padding: 0.5em;\n",
              "  box-sizing: border-box;\n",
              "  text-align: center;\n",
              "}\n",
              "\n",
              "#sk-container-id-3 label.sk-toggleable__label-arrow:before {\n",
              "  /* Arrow on the left of the label */\n",
              "  content: \"▸\";\n",
              "  float: left;\n",
              "  margin-right: 0.25em;\n",
              "  color: var(--sklearn-color-icon);\n",
              "}\n",
              "\n",
              "#sk-container-id-3 label.sk-toggleable__label-arrow:hover:before {\n",
              "  color: var(--sklearn-color-text);\n",
              "}\n",
              "\n",
              "/* Toggleable content - dropdown */\n",
              "\n",
              "#sk-container-id-3 div.sk-toggleable__content {\n",
              "  max-height: 0;\n",
              "  max-width: 0;\n",
              "  overflow: hidden;\n",
              "  text-align: left;\n",
              "  /* unfitted */\n",
              "  background-color: var(--sklearn-color-unfitted-level-0);\n",
              "}\n",
              "\n",
              "#sk-container-id-3 div.sk-toggleable__content.fitted {\n",
              "  /* fitted */\n",
              "  background-color: var(--sklearn-color-fitted-level-0);\n",
              "}\n",
              "\n",
              "#sk-container-id-3 div.sk-toggleable__content pre {\n",
              "  margin: 0.2em;\n",
              "  border-radius: 0.25em;\n",
              "  color: var(--sklearn-color-text);\n",
              "  /* unfitted */\n",
              "  background-color: var(--sklearn-color-unfitted-level-0);\n",
              "}\n",
              "\n",
              "#sk-container-id-3 div.sk-toggleable__content.fitted pre {\n",
              "  /* unfitted */\n",
              "  background-color: var(--sklearn-color-fitted-level-0);\n",
              "}\n",
              "\n",
              "#sk-container-id-3 input.sk-toggleable__control:checked~div.sk-toggleable__content {\n",
              "  /* Expand drop-down */\n",
              "  max-height: 200px;\n",
              "  max-width: 100%;\n",
              "  overflow: auto;\n",
              "}\n",
              "\n",
              "#sk-container-id-3 input.sk-toggleable__control:checked~label.sk-toggleable__label-arrow:before {\n",
              "  content: \"▾\";\n",
              "}\n",
              "\n",
              "/* Pipeline/ColumnTransformer-specific style */\n",
              "\n",
              "#sk-container-id-3 div.sk-label input.sk-toggleable__control:checked~label.sk-toggleable__label {\n",
              "  color: var(--sklearn-color-text);\n",
              "  background-color: var(--sklearn-color-unfitted-level-2);\n",
              "}\n",
              "\n",
              "#sk-container-id-3 div.sk-label.fitted input.sk-toggleable__control:checked~label.sk-toggleable__label {\n",
              "  background-color: var(--sklearn-color-fitted-level-2);\n",
              "}\n",
              "\n",
              "/* Estimator-specific style */\n",
              "\n",
              "/* Colorize estimator box */\n",
              "#sk-container-id-3 div.sk-estimator input.sk-toggleable__control:checked~label.sk-toggleable__label {\n",
              "  /* unfitted */\n",
              "  background-color: var(--sklearn-color-unfitted-level-2);\n",
              "}\n",
              "\n",
              "#sk-container-id-3 div.sk-estimator.fitted input.sk-toggleable__control:checked~label.sk-toggleable__label {\n",
              "  /* fitted */\n",
              "  background-color: var(--sklearn-color-fitted-level-2);\n",
              "}\n",
              "\n",
              "#sk-container-id-3 div.sk-label label.sk-toggleable__label,\n",
              "#sk-container-id-3 div.sk-label label {\n",
              "  /* The background is the default theme color */\n",
              "  color: var(--sklearn-color-text-on-default-background);\n",
              "}\n",
              "\n",
              "/* On hover, darken the color of the background */\n",
              "#sk-container-id-3 div.sk-label:hover label.sk-toggleable__label {\n",
              "  color: var(--sklearn-color-text);\n",
              "  background-color: var(--sklearn-color-unfitted-level-2);\n",
              "}\n",
              "\n",
              "/* Label box, darken color on hover, fitted */\n",
              "#sk-container-id-3 div.sk-label.fitted:hover label.sk-toggleable__label.fitted {\n",
              "  color: var(--sklearn-color-text);\n",
              "  background-color: var(--sklearn-color-fitted-level-2);\n",
              "}\n",
              "\n",
              "/* Estimator label */\n",
              "\n",
              "#sk-container-id-3 div.sk-label label {\n",
              "  font-family: monospace;\n",
              "  font-weight: bold;\n",
              "  display: inline-block;\n",
              "  line-height: 1.2em;\n",
              "}\n",
              "\n",
              "#sk-container-id-3 div.sk-label-container {\n",
              "  text-align: center;\n",
              "}\n",
              "\n",
              "/* Estimator-specific */\n",
              "#sk-container-id-3 div.sk-estimator {\n",
              "  font-family: monospace;\n",
              "  border: 1px dotted var(--sklearn-color-border-box);\n",
              "  border-radius: 0.25em;\n",
              "  box-sizing: border-box;\n",
              "  margin-bottom: 0.5em;\n",
              "  /* unfitted */\n",
              "  background-color: var(--sklearn-color-unfitted-level-0);\n",
              "}\n",
              "\n",
              "#sk-container-id-3 div.sk-estimator.fitted {\n",
              "  /* fitted */\n",
              "  background-color: var(--sklearn-color-fitted-level-0);\n",
              "}\n",
              "\n",
              "/* on hover */\n",
              "#sk-container-id-3 div.sk-estimator:hover {\n",
              "  /* unfitted */\n",
              "  background-color: var(--sklearn-color-unfitted-level-2);\n",
              "}\n",
              "\n",
              "#sk-container-id-3 div.sk-estimator.fitted:hover {\n",
              "  /* fitted */\n",
              "  background-color: var(--sklearn-color-fitted-level-2);\n",
              "}\n",
              "\n",
              "/* Specification for estimator info (e.g. \"i\" and \"?\") */\n",
              "\n",
              "/* Common style for \"i\" and \"?\" */\n",
              "\n",
              ".sk-estimator-doc-link,\n",
              "a:link.sk-estimator-doc-link,\n",
              "a:visited.sk-estimator-doc-link {\n",
              "  float: right;\n",
              "  font-size: smaller;\n",
              "  line-height: 1em;\n",
              "  font-family: monospace;\n",
              "  background-color: var(--sklearn-color-background);\n",
              "  border-radius: 1em;\n",
              "  height: 1em;\n",
              "  width: 1em;\n",
              "  text-decoration: none !important;\n",
              "  margin-left: 1ex;\n",
              "  /* unfitted */\n",
              "  border: var(--sklearn-color-unfitted-level-1) 1pt solid;\n",
              "  color: var(--sklearn-color-unfitted-level-1);\n",
              "}\n",
              "\n",
              ".sk-estimator-doc-link.fitted,\n",
              "a:link.sk-estimator-doc-link.fitted,\n",
              "a:visited.sk-estimator-doc-link.fitted {\n",
              "  /* fitted */\n",
              "  border: var(--sklearn-color-fitted-level-1) 1pt solid;\n",
              "  color: var(--sklearn-color-fitted-level-1);\n",
              "}\n",
              "\n",
              "/* On hover */\n",
              "div.sk-estimator:hover .sk-estimator-doc-link:hover,\n",
              ".sk-estimator-doc-link:hover,\n",
              "div.sk-label-container:hover .sk-estimator-doc-link:hover,\n",
              ".sk-estimator-doc-link:hover {\n",
              "  /* unfitted */\n",
              "  background-color: var(--sklearn-color-unfitted-level-3);\n",
              "  color: var(--sklearn-color-background);\n",
              "  text-decoration: none;\n",
              "}\n",
              "\n",
              "div.sk-estimator.fitted:hover .sk-estimator-doc-link.fitted:hover,\n",
              ".sk-estimator-doc-link.fitted:hover,\n",
              "div.sk-label-container:hover .sk-estimator-doc-link.fitted:hover,\n",
              ".sk-estimator-doc-link.fitted:hover {\n",
              "  /* fitted */\n",
              "  background-color: var(--sklearn-color-fitted-level-3);\n",
              "  color: var(--sklearn-color-background);\n",
              "  text-decoration: none;\n",
              "}\n",
              "\n",
              "/* Span, style for the box shown on hovering the info icon */\n",
              ".sk-estimator-doc-link span {\n",
              "  display: none;\n",
              "  z-index: 9999;\n",
              "  position: relative;\n",
              "  font-weight: normal;\n",
              "  right: .2ex;\n",
              "  padding: .5ex;\n",
              "  margin: .5ex;\n",
              "  width: min-content;\n",
              "  min-width: 20ex;\n",
              "  max-width: 50ex;\n",
              "  color: var(--sklearn-color-text);\n",
              "  box-shadow: 2pt 2pt 4pt #999;\n",
              "  /* unfitted */\n",
              "  background: var(--sklearn-color-unfitted-level-0);\n",
              "  border: .5pt solid var(--sklearn-color-unfitted-level-3);\n",
              "}\n",
              "\n",
              ".sk-estimator-doc-link.fitted span {\n",
              "  /* fitted */\n",
              "  background: var(--sklearn-color-fitted-level-0);\n",
              "  border: var(--sklearn-color-fitted-level-3);\n",
              "}\n",
              "\n",
              ".sk-estimator-doc-link:hover span {\n",
              "  display: block;\n",
              "}\n",
              "\n",
              "/* \"?\"-specific style due to the `<a>` HTML tag */\n",
              "\n",
              "#sk-container-id-3 a.estimator_doc_link {\n",
              "  float: right;\n",
              "  font-size: 1rem;\n",
              "  line-height: 1em;\n",
              "  font-family: monospace;\n",
              "  background-color: var(--sklearn-color-background);\n",
              "  border-radius: 1rem;\n",
              "  height: 1rem;\n",
              "  width: 1rem;\n",
              "  text-decoration: none;\n",
              "  /* unfitted */\n",
              "  color: var(--sklearn-color-unfitted-level-1);\n",
              "  border: var(--sklearn-color-unfitted-level-1) 1pt solid;\n",
              "}\n",
              "\n",
              "#sk-container-id-3 a.estimator_doc_link.fitted {\n",
              "  /* fitted */\n",
              "  border: var(--sklearn-color-fitted-level-1) 1pt solid;\n",
              "  color: var(--sklearn-color-fitted-level-1);\n",
              "}\n",
              "\n",
              "/* On hover */\n",
              "#sk-container-id-3 a.estimator_doc_link:hover {\n",
              "  /* unfitted */\n",
              "  background-color: var(--sklearn-color-unfitted-level-3);\n",
              "  color: var(--sklearn-color-background);\n",
              "  text-decoration: none;\n",
              "}\n",
              "\n",
              "#sk-container-id-3 a.estimator_doc_link.fitted:hover {\n",
              "  /* fitted */\n",
              "  background-color: var(--sklearn-color-fitted-level-3);\n",
              "}\n",
              "</style><div id=\"sk-container-id-3\" class=\"sk-top-container\"><div class=\"sk-text-repr-fallback\"><pre>GridSearchCV(cv=3, estimator=RandomForestRegressor(), n_jobs=-1,\n",
              "             param_grid={&#x27;max_depth&#x27;: [40, 60, 80, 100, None],\n",
              "                         &#x27;n_estimators&#x27;: [400, 600, 800, 1000]},\n",
              "             verbose=2)</pre><b>In a Jupyter environment, please rerun this cell to show the HTML representation or trust the notebook. <br />On GitHub, the HTML representation is unable to render, please try loading this page with nbviewer.org.</b></div><div class=\"sk-container\" hidden><div class=\"sk-item sk-dashed-wrapped\"><div class=\"sk-label-container\"><div class=\"sk-label fitted sk-toggleable\"><input class=\"sk-toggleable__control sk-hidden--visually\" id=\"sk-estimator-id-5\" type=\"checkbox\" ><label for=\"sk-estimator-id-5\" class=\"sk-toggleable__label fitted sk-toggleable__label-arrow fitted\">&nbsp;&nbsp;GridSearchCV<a class=\"sk-estimator-doc-link fitted\" rel=\"noreferrer\" target=\"_blank\" href=\"https://scikit-learn.org/1.4/modules/generated/sklearn.model_selection.GridSearchCV.html\">?<span>Documentation for GridSearchCV</span></a><span class=\"sk-estimator-doc-link fitted\">i<span>Fitted</span></span></label><div class=\"sk-toggleable__content fitted\"><pre>GridSearchCV(cv=3, estimator=RandomForestRegressor(), n_jobs=-1,\n",
              "             param_grid={&#x27;max_depth&#x27;: [40, 60, 80, 100, None],\n",
              "                         &#x27;n_estimators&#x27;: [400, 600, 800, 1000]},\n",
              "             verbose=2)</pre></div> </div></div><div class=\"sk-parallel\"><div class=\"sk-parallel-item\"><div class=\"sk-item\"><div class=\"sk-label-container\"><div class=\"sk-label fitted sk-toggleable\"><input class=\"sk-toggleable__control sk-hidden--visually\" id=\"sk-estimator-id-6\" type=\"checkbox\" ><label for=\"sk-estimator-id-6\" class=\"sk-toggleable__label fitted sk-toggleable__label-arrow fitted\">estimator: RandomForestRegressor</label><div class=\"sk-toggleable__content fitted\"><pre>RandomForestRegressor()</pre></div> </div></div><div class=\"sk-serial\"><div class=\"sk-item\"><div class=\"sk-estimator fitted sk-toggleable\"><input class=\"sk-toggleable__control sk-hidden--visually\" id=\"sk-estimator-id-7\" type=\"checkbox\" ><label for=\"sk-estimator-id-7\" class=\"sk-toggleable__label fitted sk-toggleable__label-arrow fitted\">&nbsp;RandomForestRegressor<a class=\"sk-estimator-doc-link fitted\" rel=\"noreferrer\" target=\"_blank\" href=\"https://scikit-learn.org/1.4/modules/generated/sklearn.ensemble.RandomForestRegressor.html\">?<span>Documentation for RandomForestRegressor</span></a></label><div class=\"sk-toggleable__content fitted\"><pre>RandomForestRegressor()</pre></div> </div></div></div></div></div></div></div></div></div>"
            ],
            "text/plain": [
              "GridSearchCV(cv=3, estimator=RandomForestRegressor(), n_jobs=-1,\n",
              "             param_grid={'max_depth': [40, 60, 80, 100, None],\n",
              "                         'n_estimators': [400, 600, 800, 1000]},\n",
              "             verbose=2)"
            ]
          },
          "execution_count": 161,
          "metadata": {},
          "output_type": "execute_result"
        }
      ],
      "source": [
        "rfr = RandomForestRegressor()\n",
        "\n",
        "# Grid Search of parameters, using 3 fold cross validation,\n",
        "rf_gridCV = GridSearchCV(estimator = rfr, param_grid = grid_params_dict, cv = 3, verbose=2, n_jobs = -1)\n",
        "\n",
        "# Fit the random search model\n",
        "rf_gridCV.fit(X, y)"
      ]
    },
    {
      "cell_type": "code",
      "execution_count": 162,
      "metadata": {
        "colab": {
          "base_uri": "https://localhost:8080/"
        },
        "id": "j396PDsTT0d3",
        "outputId": "a4c70458-a5cc-4e26-cee4-359a83f2a344"
      },
      "outputs": [
        {
          "data": {
            "text/plain": [
              "{'max_depth': None, 'n_estimators': 600}"
            ]
          },
          "execution_count": 162,
          "metadata": {},
          "output_type": "execute_result"
        }
      ],
      "source": [
        "rf_gridCV.best_params_"
      ]
    },
    {
      "cell_type": "code",
      "execution_count": 163,
      "metadata": {
        "colab": {
          "base_uri": "https://localhost:8080/",
          "height": 74
        },
        "id": "YexB-dXoTz8F",
        "outputId": "8f700d92-6ae9-4a95-895e-18c075cad51f"
      },
      "outputs": [
        {
          "data": {
            "text/html": [
              "<style>#sk-container-id-4 {\n",
              "  /* Definition of color scheme common for light and dark mode */\n",
              "  --sklearn-color-text: black;\n",
              "  --sklearn-color-line: gray;\n",
              "  /* Definition of color scheme for unfitted estimators */\n",
              "  --sklearn-color-unfitted-level-0: #fff5e6;\n",
              "  --sklearn-color-unfitted-level-1: #f6e4d2;\n",
              "  --sklearn-color-unfitted-level-2: #ffe0b3;\n",
              "  --sklearn-color-unfitted-level-3: chocolate;\n",
              "  /* Definition of color scheme for fitted estimators */\n",
              "  --sklearn-color-fitted-level-0: #f0f8ff;\n",
              "  --sklearn-color-fitted-level-1: #d4ebff;\n",
              "  --sklearn-color-fitted-level-2: #b3dbfd;\n",
              "  --sklearn-color-fitted-level-3: cornflowerblue;\n",
              "\n",
              "  /* Specific color for light theme */\n",
              "  --sklearn-color-text-on-default-background: var(--sg-text-color, var(--theme-code-foreground, var(--jp-content-font-color1, black)));\n",
              "  --sklearn-color-background: var(--sg-background-color, var(--theme-background, var(--jp-layout-color0, white)));\n",
              "  --sklearn-color-border-box: var(--sg-text-color, var(--theme-code-foreground, var(--jp-content-font-color1, black)));\n",
              "  --sklearn-color-icon: #696969;\n",
              "\n",
              "  @media (prefers-color-scheme: dark) {\n",
              "    /* Redefinition of color scheme for dark theme */\n",
              "    --sklearn-color-text-on-default-background: var(--sg-text-color, var(--theme-code-foreground, var(--jp-content-font-color1, white)));\n",
              "    --sklearn-color-background: var(--sg-background-color, var(--theme-background, var(--jp-layout-color0, #111)));\n",
              "    --sklearn-color-border-box: var(--sg-text-color, var(--theme-code-foreground, var(--jp-content-font-color1, white)));\n",
              "    --sklearn-color-icon: #878787;\n",
              "  }\n",
              "}\n",
              "\n",
              "#sk-container-id-4 {\n",
              "  color: var(--sklearn-color-text);\n",
              "}\n",
              "\n",
              "#sk-container-id-4 pre {\n",
              "  padding: 0;\n",
              "}\n",
              "\n",
              "#sk-container-id-4 input.sk-hidden--visually {\n",
              "  border: 0;\n",
              "  clip: rect(1px 1px 1px 1px);\n",
              "  clip: rect(1px, 1px, 1px, 1px);\n",
              "  height: 1px;\n",
              "  margin: -1px;\n",
              "  overflow: hidden;\n",
              "  padding: 0;\n",
              "  position: absolute;\n",
              "  width: 1px;\n",
              "}\n",
              "\n",
              "#sk-container-id-4 div.sk-dashed-wrapped {\n",
              "  border: 1px dashed var(--sklearn-color-line);\n",
              "  margin: 0 0.4em 0.5em 0.4em;\n",
              "  box-sizing: border-box;\n",
              "  padding-bottom: 0.4em;\n",
              "  background-color: var(--sklearn-color-background);\n",
              "}\n",
              "\n",
              "#sk-container-id-4 div.sk-container {\n",
              "  /* jupyter's `normalize.less` sets `[hidden] { display: none; }`\n",
              "     but bootstrap.min.css set `[hidden] { display: none !important; }`\n",
              "     so we also need the `!important` here to be able to override the\n",
              "     default hidden behavior on the sphinx rendered scikit-learn.org.\n",
              "     See: https://github.com/scikit-learn/scikit-learn/issues/21755 */\n",
              "  display: inline-block !important;\n",
              "  position: relative;\n",
              "}\n",
              "\n",
              "#sk-container-id-4 div.sk-text-repr-fallback {\n",
              "  display: none;\n",
              "}\n",
              "\n",
              "div.sk-parallel-item,\n",
              "div.sk-serial,\n",
              "div.sk-item {\n",
              "  /* draw centered vertical line to link estimators */\n",
              "  background-image: linear-gradient(var(--sklearn-color-text-on-default-background), var(--sklearn-color-text-on-default-background));\n",
              "  background-size: 2px 100%;\n",
              "  background-repeat: no-repeat;\n",
              "  background-position: center center;\n",
              "}\n",
              "\n",
              "/* Parallel-specific style estimator block */\n",
              "\n",
              "#sk-container-id-4 div.sk-parallel-item::after {\n",
              "  content: \"\";\n",
              "  width: 100%;\n",
              "  border-bottom: 2px solid var(--sklearn-color-text-on-default-background);\n",
              "  flex-grow: 1;\n",
              "}\n",
              "\n",
              "#sk-container-id-4 div.sk-parallel {\n",
              "  display: flex;\n",
              "  align-items: stretch;\n",
              "  justify-content: center;\n",
              "  background-color: var(--sklearn-color-background);\n",
              "  position: relative;\n",
              "}\n",
              "\n",
              "#sk-container-id-4 div.sk-parallel-item {\n",
              "  display: flex;\n",
              "  flex-direction: column;\n",
              "}\n",
              "\n",
              "#sk-container-id-4 div.sk-parallel-item:first-child::after {\n",
              "  align-self: flex-end;\n",
              "  width: 50%;\n",
              "}\n",
              "\n",
              "#sk-container-id-4 div.sk-parallel-item:last-child::after {\n",
              "  align-self: flex-start;\n",
              "  width: 50%;\n",
              "}\n",
              "\n",
              "#sk-container-id-4 div.sk-parallel-item:only-child::after {\n",
              "  width: 0;\n",
              "}\n",
              "\n",
              "/* Serial-specific style estimator block */\n",
              "\n",
              "#sk-container-id-4 div.sk-serial {\n",
              "  display: flex;\n",
              "  flex-direction: column;\n",
              "  align-items: center;\n",
              "  background-color: var(--sklearn-color-background);\n",
              "  padding-right: 1em;\n",
              "  padding-left: 1em;\n",
              "}\n",
              "\n",
              "\n",
              "/* Toggleable style: style used for estimator/Pipeline/ColumnTransformer box that is\n",
              "clickable and can be expanded/collapsed.\n",
              "- Pipeline and ColumnTransformer use this feature and define the default style\n",
              "- Estimators will overwrite some part of the style using the `sk-estimator` class\n",
              "*/\n",
              "\n",
              "/* Pipeline and ColumnTransformer style (default) */\n",
              "\n",
              "#sk-container-id-4 div.sk-toggleable {\n",
              "  /* Default theme specific background. It is overwritten whether we have a\n",
              "  specific estimator or a Pipeline/ColumnTransformer */\n",
              "  background-color: var(--sklearn-color-background);\n",
              "}\n",
              "\n",
              "/* Toggleable label */\n",
              "#sk-container-id-4 label.sk-toggleable__label {\n",
              "  cursor: pointer;\n",
              "  display: block;\n",
              "  width: 100%;\n",
              "  margin-bottom: 0;\n",
              "  padding: 0.5em;\n",
              "  box-sizing: border-box;\n",
              "  text-align: center;\n",
              "}\n",
              "\n",
              "#sk-container-id-4 label.sk-toggleable__label-arrow:before {\n",
              "  /* Arrow on the left of the label */\n",
              "  content: \"▸\";\n",
              "  float: left;\n",
              "  margin-right: 0.25em;\n",
              "  color: var(--sklearn-color-icon);\n",
              "}\n",
              "\n",
              "#sk-container-id-4 label.sk-toggleable__label-arrow:hover:before {\n",
              "  color: var(--sklearn-color-text);\n",
              "}\n",
              "\n",
              "/* Toggleable content - dropdown */\n",
              "\n",
              "#sk-container-id-4 div.sk-toggleable__content {\n",
              "  max-height: 0;\n",
              "  max-width: 0;\n",
              "  overflow: hidden;\n",
              "  text-align: left;\n",
              "  /* unfitted */\n",
              "  background-color: var(--sklearn-color-unfitted-level-0);\n",
              "}\n",
              "\n",
              "#sk-container-id-4 div.sk-toggleable__content.fitted {\n",
              "  /* fitted */\n",
              "  background-color: var(--sklearn-color-fitted-level-0);\n",
              "}\n",
              "\n",
              "#sk-container-id-4 div.sk-toggleable__content pre {\n",
              "  margin: 0.2em;\n",
              "  border-radius: 0.25em;\n",
              "  color: var(--sklearn-color-text);\n",
              "  /* unfitted */\n",
              "  background-color: var(--sklearn-color-unfitted-level-0);\n",
              "}\n",
              "\n",
              "#sk-container-id-4 div.sk-toggleable__content.fitted pre {\n",
              "  /* unfitted */\n",
              "  background-color: var(--sklearn-color-fitted-level-0);\n",
              "}\n",
              "\n",
              "#sk-container-id-4 input.sk-toggleable__control:checked~div.sk-toggleable__content {\n",
              "  /* Expand drop-down */\n",
              "  max-height: 200px;\n",
              "  max-width: 100%;\n",
              "  overflow: auto;\n",
              "}\n",
              "\n",
              "#sk-container-id-4 input.sk-toggleable__control:checked~label.sk-toggleable__label-arrow:before {\n",
              "  content: \"▾\";\n",
              "}\n",
              "\n",
              "/* Pipeline/ColumnTransformer-specific style */\n",
              "\n",
              "#sk-container-id-4 div.sk-label input.sk-toggleable__control:checked~label.sk-toggleable__label {\n",
              "  color: var(--sklearn-color-text);\n",
              "  background-color: var(--sklearn-color-unfitted-level-2);\n",
              "}\n",
              "\n",
              "#sk-container-id-4 div.sk-label.fitted input.sk-toggleable__control:checked~label.sk-toggleable__label {\n",
              "  background-color: var(--sklearn-color-fitted-level-2);\n",
              "}\n",
              "\n",
              "/* Estimator-specific style */\n",
              "\n",
              "/* Colorize estimator box */\n",
              "#sk-container-id-4 div.sk-estimator input.sk-toggleable__control:checked~label.sk-toggleable__label {\n",
              "  /* unfitted */\n",
              "  background-color: var(--sklearn-color-unfitted-level-2);\n",
              "}\n",
              "\n",
              "#sk-container-id-4 div.sk-estimator.fitted input.sk-toggleable__control:checked~label.sk-toggleable__label {\n",
              "  /* fitted */\n",
              "  background-color: var(--sklearn-color-fitted-level-2);\n",
              "}\n",
              "\n",
              "#sk-container-id-4 div.sk-label label.sk-toggleable__label,\n",
              "#sk-container-id-4 div.sk-label label {\n",
              "  /* The background is the default theme color */\n",
              "  color: var(--sklearn-color-text-on-default-background);\n",
              "}\n",
              "\n",
              "/* On hover, darken the color of the background */\n",
              "#sk-container-id-4 div.sk-label:hover label.sk-toggleable__label {\n",
              "  color: var(--sklearn-color-text);\n",
              "  background-color: var(--sklearn-color-unfitted-level-2);\n",
              "}\n",
              "\n",
              "/* Label box, darken color on hover, fitted */\n",
              "#sk-container-id-4 div.sk-label.fitted:hover label.sk-toggleable__label.fitted {\n",
              "  color: var(--sklearn-color-text);\n",
              "  background-color: var(--sklearn-color-fitted-level-2);\n",
              "}\n",
              "\n",
              "/* Estimator label */\n",
              "\n",
              "#sk-container-id-4 div.sk-label label {\n",
              "  font-family: monospace;\n",
              "  font-weight: bold;\n",
              "  display: inline-block;\n",
              "  line-height: 1.2em;\n",
              "}\n",
              "\n",
              "#sk-container-id-4 div.sk-label-container {\n",
              "  text-align: center;\n",
              "}\n",
              "\n",
              "/* Estimator-specific */\n",
              "#sk-container-id-4 div.sk-estimator {\n",
              "  font-family: monospace;\n",
              "  border: 1px dotted var(--sklearn-color-border-box);\n",
              "  border-radius: 0.25em;\n",
              "  box-sizing: border-box;\n",
              "  margin-bottom: 0.5em;\n",
              "  /* unfitted */\n",
              "  background-color: var(--sklearn-color-unfitted-level-0);\n",
              "}\n",
              "\n",
              "#sk-container-id-4 div.sk-estimator.fitted {\n",
              "  /* fitted */\n",
              "  background-color: var(--sklearn-color-fitted-level-0);\n",
              "}\n",
              "\n",
              "/* on hover */\n",
              "#sk-container-id-4 div.sk-estimator:hover {\n",
              "  /* unfitted */\n",
              "  background-color: var(--sklearn-color-unfitted-level-2);\n",
              "}\n",
              "\n",
              "#sk-container-id-4 div.sk-estimator.fitted:hover {\n",
              "  /* fitted */\n",
              "  background-color: var(--sklearn-color-fitted-level-2);\n",
              "}\n",
              "\n",
              "/* Specification for estimator info (e.g. \"i\" and \"?\") */\n",
              "\n",
              "/* Common style for \"i\" and \"?\" */\n",
              "\n",
              ".sk-estimator-doc-link,\n",
              "a:link.sk-estimator-doc-link,\n",
              "a:visited.sk-estimator-doc-link {\n",
              "  float: right;\n",
              "  font-size: smaller;\n",
              "  line-height: 1em;\n",
              "  font-family: monospace;\n",
              "  background-color: var(--sklearn-color-background);\n",
              "  border-radius: 1em;\n",
              "  height: 1em;\n",
              "  width: 1em;\n",
              "  text-decoration: none !important;\n",
              "  margin-left: 1ex;\n",
              "  /* unfitted */\n",
              "  border: var(--sklearn-color-unfitted-level-1) 1pt solid;\n",
              "  color: var(--sklearn-color-unfitted-level-1);\n",
              "}\n",
              "\n",
              ".sk-estimator-doc-link.fitted,\n",
              "a:link.sk-estimator-doc-link.fitted,\n",
              "a:visited.sk-estimator-doc-link.fitted {\n",
              "  /* fitted */\n",
              "  border: var(--sklearn-color-fitted-level-1) 1pt solid;\n",
              "  color: var(--sklearn-color-fitted-level-1);\n",
              "}\n",
              "\n",
              "/* On hover */\n",
              "div.sk-estimator:hover .sk-estimator-doc-link:hover,\n",
              ".sk-estimator-doc-link:hover,\n",
              "div.sk-label-container:hover .sk-estimator-doc-link:hover,\n",
              ".sk-estimator-doc-link:hover {\n",
              "  /* unfitted */\n",
              "  background-color: var(--sklearn-color-unfitted-level-3);\n",
              "  color: var(--sklearn-color-background);\n",
              "  text-decoration: none;\n",
              "}\n",
              "\n",
              "div.sk-estimator.fitted:hover .sk-estimator-doc-link.fitted:hover,\n",
              ".sk-estimator-doc-link.fitted:hover,\n",
              "div.sk-label-container:hover .sk-estimator-doc-link.fitted:hover,\n",
              ".sk-estimator-doc-link.fitted:hover {\n",
              "  /* fitted */\n",
              "  background-color: var(--sklearn-color-fitted-level-3);\n",
              "  color: var(--sklearn-color-background);\n",
              "  text-decoration: none;\n",
              "}\n",
              "\n",
              "/* Span, style for the box shown on hovering the info icon */\n",
              ".sk-estimator-doc-link span {\n",
              "  display: none;\n",
              "  z-index: 9999;\n",
              "  position: relative;\n",
              "  font-weight: normal;\n",
              "  right: .2ex;\n",
              "  padding: .5ex;\n",
              "  margin: .5ex;\n",
              "  width: min-content;\n",
              "  min-width: 20ex;\n",
              "  max-width: 50ex;\n",
              "  color: var(--sklearn-color-text);\n",
              "  box-shadow: 2pt 2pt 4pt #999;\n",
              "  /* unfitted */\n",
              "  background: var(--sklearn-color-unfitted-level-0);\n",
              "  border: .5pt solid var(--sklearn-color-unfitted-level-3);\n",
              "}\n",
              "\n",
              ".sk-estimator-doc-link.fitted span {\n",
              "  /* fitted */\n",
              "  background: var(--sklearn-color-fitted-level-0);\n",
              "  border: var(--sklearn-color-fitted-level-3);\n",
              "}\n",
              "\n",
              ".sk-estimator-doc-link:hover span {\n",
              "  display: block;\n",
              "}\n",
              "\n",
              "/* \"?\"-specific style due to the `<a>` HTML tag */\n",
              "\n",
              "#sk-container-id-4 a.estimator_doc_link {\n",
              "  float: right;\n",
              "  font-size: 1rem;\n",
              "  line-height: 1em;\n",
              "  font-family: monospace;\n",
              "  background-color: var(--sklearn-color-background);\n",
              "  border-radius: 1rem;\n",
              "  height: 1rem;\n",
              "  width: 1rem;\n",
              "  text-decoration: none;\n",
              "  /* unfitted */\n",
              "  color: var(--sklearn-color-unfitted-level-1);\n",
              "  border: var(--sklearn-color-unfitted-level-1) 1pt solid;\n",
              "}\n",
              "\n",
              "#sk-container-id-4 a.estimator_doc_link.fitted {\n",
              "  /* fitted */\n",
              "  border: var(--sklearn-color-fitted-level-1) 1pt solid;\n",
              "  color: var(--sklearn-color-fitted-level-1);\n",
              "}\n",
              "\n",
              "/* On hover */\n",
              "#sk-container-id-4 a.estimator_doc_link:hover {\n",
              "  /* unfitted */\n",
              "  background-color: var(--sklearn-color-unfitted-level-3);\n",
              "  color: var(--sklearn-color-background);\n",
              "  text-decoration: none;\n",
              "}\n",
              "\n",
              "#sk-container-id-4 a.estimator_doc_link.fitted:hover {\n",
              "  /* fitted */\n",
              "  background-color: var(--sklearn-color-fitted-level-3);\n",
              "}\n",
              "</style><div id=\"sk-container-id-4\" class=\"sk-top-container\"><div class=\"sk-text-repr-fallback\"><pre>RandomForestRegressor(n_estimators=600)</pre><b>In a Jupyter environment, please rerun this cell to show the HTML representation or trust the notebook. <br />On GitHub, the HTML representation is unable to render, please try loading this page with nbviewer.org.</b></div><div class=\"sk-container\" hidden><div class=\"sk-item\"><div class=\"sk-estimator fitted sk-toggleable\"><input class=\"sk-toggleable__control sk-hidden--visually\" id=\"sk-estimator-id-8\" type=\"checkbox\" checked><label for=\"sk-estimator-id-8\" class=\"sk-toggleable__label fitted sk-toggleable__label-arrow fitted\">&nbsp;&nbsp;RandomForestRegressor<a class=\"sk-estimator-doc-link fitted\" rel=\"noreferrer\" target=\"_blank\" href=\"https://scikit-learn.org/1.4/modules/generated/sklearn.ensemble.RandomForestRegressor.html\">?<span>Documentation for RandomForestRegressor</span></a><span class=\"sk-estimator-doc-link fitted\">i<span>Fitted</span></span></label><div class=\"sk-toggleable__content fitted\"><pre>RandomForestRegressor(n_estimators=600)</pre></div> </div></div></div></div>"
            ],
            "text/plain": [
              "RandomForestRegressor(n_estimators=600)"
            ]
          },
          "execution_count": 163,
          "metadata": {},
          "output_type": "execute_result"
        }
      ],
      "source": [
        "rf_gridCV.best_estimator_"
      ]
    },
    {
      "cell_type": "code",
      "execution_count": 164,
      "metadata": {
        "colab": {
          "base_uri": "https://localhost:8080/"
        },
        "id": "Gu-OvvbWUG5U",
        "outputId": "1eb2d4c8-6d89-4db3-fa93-c9cb60e995e2"
      },
      "outputs": [
        {
          "name": "stdout",
          "output_type": "stream",
          "text": [
            "MSE is 770.219441416061\n",
            "RMSE is 27.752827629199533\n",
            "R2 Score is 0.8768343014506632\n",
            "Adjusted R2 :  0.8758906932762933\n"
          ]
        }
      ],
      "source": [
        "rf_grid_optimal_model =rf_gridCV.best_estimator_\n",
        "y_train_pred_gridCV = rf_grid_optimal_model.predict(X_train)\n",
        "\n",
        "evaluate_metric(y_train,y_train_pred_gridCV)\n",
        "print(\"Adjusted R2 : \",1-(1-r2_score((y_train), (y_train_pred_gridCV)))*((X_train.shape[0]-1)/(X_train.shape[0]-X_train.shape[1]-1)))"
      ]
    },
    {
      "cell_type": "code",
      "execution_count": 165,
      "metadata": {
        "colab": {
          "base_uri": "https://localhost:8080/"
        },
        "id": "J7b4ibT4UOP4",
        "outputId": "5b29b519-3ccb-4f44-aa4e-46bd1f69067c"
      },
      "outputs": [
        {
          "name": "stdout",
          "output_type": "stream",
          "text": [
            "MSE is 769.7886574644444\n",
            "RMSE is 27.745065461527467\n",
            "R2 Score is 0.8785439336320907\n",
            "Adjusted R2 :  0.8747327606164172\n"
          ]
        }
      ],
      "source": [
        "y_test_pred_gridCV = rf_grid_optimal_model.predict(X_test)\n",
        "\n",
        "\n",
        "evaluate_metric(y_test,y_test_pred_gridCV)\n",
        "print(\"Adjusted R2 : \",1-(1-r2_score((y_test), (y_test_pred_gridCV)))*((X_test.shape[0]-1)/(X_test.shape[0]-X_test.shape[1]-1)))"
      ]
    },
    {
      "cell_type": "code",
      "execution_count": 170,
      "metadata": {},
      "outputs": [],
      "source": [
        "best_model= models[\"RandomForest\"]\n",
        "\n"
      ]
    },
    {
      "cell_type": "code",
      "execution_count": 171,
      "metadata": {},
      "outputs": [
        {
          "data": {
            "text/plain": [
              "['label_encoder.pkl']"
            ]
          },
          "execution_count": 171,
          "metadata": {},
          "output_type": "execute_result"
        }
      ],
      "source": [
        "import joblib \n",
        "\n",
        "joblib.dump(best_model,\"Route_management.pkl\")\n",
        "joblib.dump(label_encoder,\"label_encoder.pkl\")"
      ]
    }
  ],
  "metadata": {
    "colab": {
      "authorship_tag": "ABX9TyN5TTVl/PHv0b1k3as42Alr",
      "include_colab_link": true,
      "provenance": []
    },
    "kernelspec": {
      "display_name": "Python 3",
      "name": "python3"
    },
    "language_info": {
      "codemirror_mode": {
        "name": "ipython",
        "version": 3
      },
      "file_extension": ".py",
      "mimetype": "text/x-python",
      "name": "python",
      "nbconvert_exporter": "python",
      "pygments_lexer": "ipython3",
      "version": "3.10.5"
    }
  },
  "nbformat": 4,
  "nbformat_minor": 0
}
